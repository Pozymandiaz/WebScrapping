{
 "cells": [
  {
   "cell_type": "code",
   "execution_count": null,
   "id": "01251ca4-c114-4344-a7d7-12b0e8ad4699",
   "metadata": {},
   "outputs": [],
   "source": [
    "import requests\n",
    "from bs4 import BeautifulSoup as soup\n",
    "html = requests.get('https://www.tripadvisor.fr/Hotels-g187147-Paris_Ile_de_France-Hotels.html')"
   ]
  },
  {
   "cell_type": "code",
   "execution_count": null,
   "id": "d747f7f3-0c78-461b-bab9-c9698a0730eb",
   "metadata": {},
   "outputs": [],
   "source": [
    "hotel = []\n",
    "for name in bsobj.findAll('div',{'class':'listing_title'}):\n",
    "  hotel.append(name.text.strip()"
   ]
  },
  {
   "cell_type": "code",
   "execution_count": null,
   "id": "0c79625f-172e-4157-9fee-b91b9633999f",
   "metadata": {},
   "outputs": [],
   "source": []
  }
 ],
 "metadata": {
  "kernelspec": {
   "display_name": "Python 3 (ipykernel)",
   "language": "python",
   "name": "python3"
  },
  "language_info": {
   "codemirror_mode": {
    "name": "ipython",
    "version": 3
   },
   "file_extension": ".py",
   "mimetype": "text/x-python",
   "name": "python",
   "nbconvert_exporter": "python",
   "pygments_lexer": "ipython3",
   "version": "3.11.0"
  }
 },
 "nbformat": 4,
 "nbformat_minor": 5
}
