{
 "cells": [
  {
   "cell_type": "code",
   "execution_count": 12,
   "id": "60ddb353-03ba-4b17-b293-faa1488c50ad",
   "metadata": {},
   "outputs": [],
   "source": [
    "import os\n",
    "#set your environment variable for SSL certificate\n",
    "certi_path = certi_path = \"C:\\\\Users\\\\noval\\\\anaconda3\\\\Lib\\\\site-packages\\\\certifi\\\\cacert.pem\"\n",
    "os.environ['REQUESTS_CA_BUNDLE'] = certi_path\n",
    "from selenium.webdriver.common.by import By\n",
    "from selenium import webdriver\n",
    "from selenium.webdriver.chrome.service import Service\n",
    "from webdriver_manager.chrome import ChromeDriverManager\n",
    "from selenium.webdriver.chrome.options import Options\n",
    "\n",
    "\n",
    "import requests\n",
    "from bs4 import BeautifulSoup\n",
    "\n",
    "# Initialize Chrome options\n",
    "options = Options()\n",
    "#options.add_argument(\"user-agent=Mozilla/5.0 (Windows NT 10.0; Win64; x64) AppleWebKit/537.36 (KHTML, like Gecko) Chrome/58.0.3029.110 Safari/537.3\")\n",
    "#disable the browser\n",
    "#options.add_argument(\"--headless\")\n",
    "options.add_argument(\"--disable-extensions\")\n",
    "options.add_argument(\"--ignore-certificate-errors\")\n",
    "\n",
    "# Initialize Chrome WebDriver with the specified options\n",
    "service = Service(ChromeDriverManager().install())\n",
    "driver = webdriver.Chrome(service=service, options=options)\n",
    "\n",
    "\n",
    "# waits up to 10 seconds before throwing a NoSuchElementException\n",
    "driver.implicitly_wait(10)"
   ]
  },
  {
   "cell_type": "code",
   "execution_count": 13,
   "id": "479f9b3f-8938-4a6a-bcfd-3e66165ca0e0",
   "metadata": {},
   "outputs": [],
   "source": [
    "url = \"https://www.booking.com/searchresults.fr.html?ss=Paris%2C+%C3%8Ele-de-France%2C+France&efdco=1&label=gog235jc-1DCAEoggI46AdIDVgDaE2IAQGYAQ24ARfIAQ_YAQPoAQH4AQKIAgGoAgO4AuPdj7AGwAIB0gIkNGQ1Y2JhZjctNThkMC00MGQzLWE2OGUtYjAyZjlkODJmMzQ32AIE4AIB&aid=397594&lang=fr&sb=1&src_elem=sb&src=index&dest_id=-1456928&dest_type=city&ac_position=0&ac_click_type=b&ac_langcode=fr&ac_suggestion_list_length=5&search_selected=true&search_pageview_id=0b5c46b196e200d3&ac_meta=GhAwYjVjNDZiMTk2ZTIwMGQzIAAoATICZnI6BXBhcmlzQABKAFAA&ltfd=5%3A1%3A4-2024%3A1%3A&group_adults=2&no_rooms=1&group_children=0\"\n",
    "data       = []"
   ]
  },
  {
   "cell_type": "code",
   "execution_count": 14,
   "id": "3350616a-1136-4095-9b19-6fdfe737750e",
   "metadata": {},
   "outputs": [],
   "source": [
    "driver.get(url)\n",
    "soup  = BeautifulSoup(driver.page_source)"
   ]
  },
  {
   "cell_type": "code",
   "execution_count": 19,
   "id": "59593e40-f99d-4a6c-aab8-707cf4cd8e7e",
   "metadata": {},
   "outputs": [
    {
     "ename": "IndexError",
     "evalue": "list index out of range",
     "output_type": "error",
     "traceback": [
      "\u001b[1;31m---------------------------------------------------------------------------\u001b[0m",
      "\u001b[1;31mIndexError\u001b[0m                                Traceback (most recent call last)",
      "Cell \u001b[1;32mIn[19], line 2\u001b[0m\n\u001b[0;32m      1\u001b[0m hotels \u001b[38;5;241m=\u001b[39m soup\u001b[38;5;241m.\u001b[39mfind_all(\u001b[38;5;124m\"\u001b[39m\u001b[38;5;124mdiv\u001b[39m\u001b[38;5;124m\"\u001b[39m, class_\u001b[38;5;241m=\u001b[39m\u001b[38;5;124m\"\u001b[39m\u001b[38;5;124md6767e681c\u001b[39m\u001b[38;5;124m\"\u001b[39m)\n\u001b[1;32m----> 2\u001b[0m \u001b[43mhotels\u001b[49m\u001b[43m[\u001b[49m\u001b[38;5;241;43m0\u001b[39;49m\u001b[43m]\u001b[49m\n",
      "\u001b[1;31mIndexError\u001b[0m: list index out of range"
     ]
    }
   ],
   "source": [
    "hotels = soup.find_all(\"div\", class_=\"d6767e681c\")\n",
    "hotels[0]"
   ]
  },
  {
   "cell_type": "code",
   "execution_count": 17,
   "id": "ba8c5883-f60e-4f6d-b52f-55448307ed46",
   "metadata": {},
   "outputs": [],
   "source": [
    "hotels = soup.find_all(\"div\", class_=\"d6767e681c\")\n",
    "for hotel in hotels:\n",
    "    name = hotel.find(\"a\").text\n",
    "    url = hotel.find(\"a\")['href']\n",
    "    print(name)\n",
    "    print(url)\n",
    "    break\n",
    "    "
   ]
  },
  {
   "cell_type": "code",
   "execution_count": 11,
   "id": "0d8092cc-be51-4a62-8c4d-8263dc1abcb8",
   "metadata": {},
   "outputs": [],
   "source": [
    "hotels = soup.find_all(\"div\", class_=\"d6767e681c\")\n",
    "for hotel in hotels:\n",
    "    name = hotel.find(\"a\").text\n",
    "    hotel_url  = hotel.find(\"a\")['href']\n",
    "    driver.get(hotel_url)\n",
    "    soup2 = BeautifulSoup(driver.page_source)\n",
    "\n",
    "    break"
   ]
  },
  {
   "cell_type": "code",
   "execution_count": null,
   "id": "13fcb351-37e7-4236-97c0-483ed01160d7",
   "metadata": {},
   "outputs": [],
   "source": []
  }
 ],
 "metadata": {
  "kernelspec": {
   "display_name": "Python 3 (ipykernel)",
   "language": "python",
   "name": "python3"
  },
  "language_info": {
   "codemirror_mode": {
    "name": "ipython",
    "version": 3
   },
   "file_extension": ".py",
   "mimetype": "text/x-python",
   "name": "python",
   "nbconvert_exporter": "python",
   "pygments_lexer": "ipython3",
   "version": "3.11.0"
  }
 },
 "nbformat": 4,
 "nbformat_minor": 5
}
