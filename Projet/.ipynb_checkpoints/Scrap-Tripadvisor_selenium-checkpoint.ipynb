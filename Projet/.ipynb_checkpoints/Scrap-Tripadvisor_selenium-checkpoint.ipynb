{
 "cells": [
  {
   "cell_type": "code",
   "execution_count": 42,
   "id": "067b94d9-62eb-4ab0-b120-59595b47dd88",
   "metadata": {},
   "outputs": [],
   "source": [
    "import os\n",
    "#set your environment variable for SSL certificate\n",
    "certi_path = certi_path = \"C:\\\\Users\\\\noval\\\\anaconda3\\\\Lib\\\\site-packages\\\\certifi\\\\cacert.pem\"\n",
    "os.environ['REQUESTS_CA_BUNDLE'] = certi_path\n",
    "from selenium.webdriver.common.by import By\n",
    "from selenium import webdriver\n",
    "from selenium.webdriver.chrome.service import Service\n",
    "from webdriver_manager.chrome import ChromeDriverManager\n",
    "from selenium.webdriver.chrome.options import Options\n",
    "\n",
    "\n",
    "import requests\n",
    "from bs4 import BeautifulSoup\n",
    "\n",
    "# Initialize Chrome options\n",
    "options = Options()\n",
    "#options.add_argument(\"user-agent=Mozilla/5.0 (Windows NT 10.0; Win64; x64) AppleWebKit/537.36 (KHTML, like Gecko) Chrome/58.0.3029.110 Safari/537.3\")\n",
    "#disable the browser\n",
    "#options.add_argument(\"--headless\")\n",
    "options.add_argument(\"--disable-extensions\")\n",
    "options.add_argument(\"--ignore-certificate-errors\")\n",
    "\n",
    "# Initialize Chrome WebDriver with the specified options\n",
    "service = Service(ChromeDriverManager().install())\n",
    "driver = webdriver.Chrome(service=service, options=options)\n",
    "\n",
    "\n",
    "# waits up to 10 seconds before throwing a NoSuchElementException\n",
    "driver.implicitly_wait(10)"
   ]
  },
  {
   "cell_type": "code",
   "execution_count": 2,
   "id": "93fe7836-33cd-4078-89c4-04d6abb70ce0",
   "metadata": {},
   "outputs": [
    {
     "name": "stdout",
     "output_type": "stream",
     "text": [
      "Collecting webdriver-manager\n",
      "  Downloading webdriver_manager-4.0.1-py2.py3-none-any.whl.metadata (12 kB)\n",
      "Requirement already satisfied: requests in c:\\python311\\lib\\site-packages (from webdriver-manager) (2.31.0)\n",
      "Requirement already satisfied: python-dotenv in c:\\python311\\lib\\site-packages (from webdriver-manager) (1.0.0)\n",
      "Requirement already satisfied: packaging in c:\\python311\\lib\\site-packages (from webdriver-manager) (23.2)\n",
      "Requirement already satisfied: charset-normalizer<4,>=2 in c:\\python311\\lib\\site-packages (from requests->webdriver-manager) (3.3.2)\n",
      "Requirement already satisfied: idna<4,>=2.5 in c:\\python311\\lib\\site-packages (from requests->webdriver-manager) (3.6)\n",
      "Requirement already satisfied: urllib3<3,>=1.21.1 in c:\\python311\\lib\\site-packages (from requests->webdriver-manager) (2.1.0)\n",
      "Requirement already satisfied: certifi>=2017.4.17 in c:\\python311\\lib\\site-packages (from requests->webdriver-manager) (2024.2.2)\n",
      "Downloading webdriver_manager-4.0.1-py2.py3-none-any.whl (27 kB)\n",
      "Installing collected packages: webdriver-manager\n",
      "Successfully installed webdriver-manager-4.0.1\n",
      "Note: you may need to restart the kernel to use updated packages.\n"
     ]
    },
    {
     "name": "stderr",
     "output_type": "stream",
     "text": [
      "\n",
      "[notice] A new release of pip is available: 23.3.1 -> 24.0\n",
      "[notice] To update, run: python.exe -m pip install --upgrade pip\n"
     ]
    }
   ],
   "source": [
    "pip install webdriver-manager"
   ]
  },
  {
   "cell_type": "code",
   "execution_count": 41,
   "id": "45b47f0a-4d0d-4349-918d-fd5a37056fcb",
   "metadata": {},
   "outputs": [],
   "source": [
    "url = \"https://www.tripadvisor.fr/Restaurants-g187147-Paris_Ile_de_France.html\"\n",
    "data       = []"
   ]
  },
  {
   "cell_type": "code",
   "execution_count": 43,
   "id": "25d68159-4a0f-47ac-8c9e-dbd9f430378d",
   "metadata": {},
   "outputs": [],
   "source": [
    "driver.get(url)\n",
    "soup  = BeautifulSoup(driver.page_source)"
   ]
  },
  {
   "cell_type": "code",
   "execution_count": 6,
   "id": "ff219c19-5ecb-480d-ac34-a3f1a3b4314c",
   "metadata": {},
   "outputs": [],
   "source": [
    "service = Service(ChromeDriverManager().install())\n",
    "driver = webdriver.Chrome(service=service, options=options)\n",
    "driver.implicitly_wait(10)"
   ]
  },
  {
   "cell_type": "code",
   "execution_count": 7,
   "id": "33b8682b-2105-476a-94d6-0dec0fbd9887",
   "metadata": {},
   "outputs": [
    {
     "ename": "NameError",
     "evalue": "name 'scrape_url' is not defined",
     "output_type": "error",
     "traceback": [
      "\u001b[1;31m---------------------------------------------------------------------------\u001b[0m",
      "\u001b[1;31mNameError\u001b[0m                                 Traceback (most recent call last)",
      "Cell \u001b[1;32mIn[7], line 1\u001b[0m\n\u001b[1;32m----> 1\u001b[0m driver\u001b[38;5;241m.\u001b[39mget(\u001b[43mscrape_url\u001b[49m)\n",
      "\u001b[1;31mNameError\u001b[0m: name 'scrape_url' is not defined"
     ]
    }
   ],
   "source": [
    "driver.get(scrape_url)"
   ]
  },
  {
   "cell_type": "code",
   "execution_count": 8,
   "id": "18dbb8f1-8cb0-4fbe-996c-c5a77650597e",
   "metadata": {},
   "outputs": [],
   "source": [
    "driver.get(url)"
   ]
  },
  {
   "cell_type": "code",
   "execution_count": 44,
   "id": "043235de-d212-4f3a-ab15-98c3973c3323",
   "metadata": {},
   "outputs": [
    {
     "data": {
      "text/plain": [
       "<div class=\"d6767e681c\"><h3 class=\"aab71f8e4e\"><a class=\"a78ca197d0\" data-testid=\"title-link\" href=\"https://www.booking.com/hotel/fr/hotelf1-paris-porte-de-chatillon-paris.fr.html?label=gog235jc-1FCAEoggI46AdIDVgDaE2IAQGYAQ24ARfIAQ_YAQHoAQH4AQKIAgGoAgO4AuPdj7AGwAIB0gIkNGQ1Y2JhZjctNThkMC00MGQzLWE2OGUtYjAyZjlkODJmMzQ32AIF4AIB&amp;aid=397594&amp;ucfs=1&amp;arphpl=1&amp;checkin=2024-04-19&amp;checkout=2024-04-20&amp;dest_id=-1456928&amp;dest_type=city&amp;group_adults=2&amp;req_adults=2&amp;no_rooms=1&amp;group_children=0&amp;req_children=0&amp;hpos=1&amp;hapos=1&amp;sr_order=popularity&amp;srpvid=54ce46d6cc440522&amp;srepoch=1711533871&amp;all_sr_blocks=154996008_93782682_2_2_0&amp;highlighted_blocks=154996008_93782682_2_2_0&amp;matching_block_id=154996008_93782682_2_2_0&amp;sr_pri_blocks=154996008_93782682_2_2_0__5224&amp;from_sustainable_property_sr=1&amp;from=searchresults#hotelTmpl\" rel=\"noopener noreferrer\" target=\"_blank\"><div class=\"f6431b446c a15b38c233\" data-testid=\"title\">hotelF1 Paris Porte de Châtillon</div><div class=\"ac4a7896c7\">Une nouvelle fenêtre va s'ouvrir</div></a></h3><div class=\"d8c86a593f\"><span class=\"f419a93f12\"><div aria-expanded=\"false\" aria-label=\"1 sur 5\" class=\"b3f3c831be\" tabindex=\"0\"><div aria-hidden=\"true\" class=\"a455730030\" data-testid=\"rating-stars\" role=\"img\"><span aria-hidden=\"true\" class=\"fcd9eec8fb d31eda6efc c25361c37f\"><svg viewbox=\"0 0 24 24\" xmlns=\"http://www.w3.org/2000/svg\"><path d=\"M23.555 8.729a1.505 1.505 0 0 0-1.406-.98h-6.087a.5.5 0 0 1-.472-.334l-2.185-6.193a1.5 1.5 0 0 0-2.81 0l-.005.016-2.18 6.177a.5.5 0 0 1-.471.334H1.85A1.5 1.5 0 0 0 .887 10.4l5.184 4.3a.5.5 0 0 1 .155.543l-2.178 6.531a1.5 1.5 0 0 0 2.31 1.684l5.346-3.92a.5.5 0 0 1 .591 0l5.344 3.919a1.5 1.5 0 0 0 2.312-1.683l-2.178-6.535a.5.5 0 0 1 .155-.543l5.194-4.306a1.5 1.5 0 0 0 .433-1.661z\"></path></svg></span></div></div></span></div></div>"
      ]
     },
     "execution_count": 44,
     "metadata": {},
     "output_type": "execute_result"
    }
   ],
   "source": [
    "restaurants = soup.find_all(\"div\", class_=\"yJIls z y\")\n",
    "restaurants[0]"
   ]
  },
  {
   "cell_type": "code",
   "execution_count": 10,
   "id": "76979a3e-0bc0-4dbd-ab5b-783cabaae410",
   "metadata": {},
   "outputs": [],
   "source": [
    "from bs4 import BeautifulSoup\n",
    "from webdriver_manager.chrome import ChromeDriverManager"
   ]
  },
  {
   "cell_type": "code",
   "execution_count": 11,
   "id": "aea8b9d9-d71f-40ea-9a26-4538510b4d7d",
   "metadata": {},
   "outputs": [],
   "source": [
    "soup  = BeautifulSoup(driver.page_source)"
   ]
  },
  {
   "cell_type": "code",
   "execution_count": 15,
   "id": "46f3180a-d9cc-47a0-9f84-47fb54ce821b",
   "metadata": {},
   "outputs": [
    {
     "name": "stdout",
     "output_type": "stream",
     "text": [
      "/Restaurant_Review-g187147-d12932966-Reviews-Le_Boissy_d_Anglas-Paris_Ile_de_France.html\n"
     ]
    }
   ],
   "source": [
    "restaurants = soup.find_all(\"div\", class_=\"yJIls z y\")\n",
    "for restaurant in restaurants:\n",
    "    name = restaurant.find(\"a\").text\n",
    "    url = restaurant.find(\"a\")['href']\n",
    "    print(url)\n",
    "    break\n",
    "    "
   ]
  },
  {
   "cell_type": "code",
   "execution_count": 16,
   "id": "f74a8733-b218-4237-bd1e-5e1e35f07e1b",
   "metadata": {},
   "outputs": [
    {
     "name": "stdout",
     "output_type": "stream",
     "text": [
      "https://www.tripadvisor.com/Restaurant_Review-g187147-d12932966-Reviews-Le_Boissy_d_Anglas-Paris_Ile_de_France.html\n"
     ]
    }
   ],
   "source": [
    "restaurants = soup.find_all(\"div\", class_=\"yJIls z y\")\n",
    "for restaurant in restaurants:\n",
    "    name = restaurant.find(\"a\").text\n",
    "    resto_url  = \"https://www.tripadvisor.com\"+restaurant.find(\"a\")['href']\n",
    "    print(url)\n",
    "    break\n",
    "    "
   ]
  },
  {
   "cell_type": "code",
   "execution_count": 17,
   "id": "399643a8-80db-49c3-aedd-74dfc0845f94",
   "metadata": {},
   "outputs": [],
   "source": [
    "restaurants = soup.find_all(\"div\", class_=\"yJIls z y\")\n",
    "for restaurant in restaurants:\n",
    "    name = restaurant.find(\"a\").text\n",
    "    resto_url  = \"https://www.tripadvisor.com\"+restaurant.find(\"a\")['href']\n",
    "    driver.get(resto_url)\n",
    "    soup2 = BeautifulSoup(driver.page_source)\n",
    "    "
   ]
  },
  {
   "cell_type": "code",
   "execution_count": 24,
   "id": "1610abf1-aec7-49df-bc45-efd4c908cac1",
   "metadata": {},
   "outputs": [
    {
     "data": {
      "text/plain": [
       "['http://79.137.194.110:80',\n",
       " 'http://207.246.105.172:8899',\n",
       " 'http://79.137.194.110:80']"
      ]
     },
     "execution_count": 24,
     "metadata": {},
     "output_type": "execute_result"
    }
   ],
   "source": [
    "proxy_list = [FreeProxy(country_id=['FR']).get() for x in range(3)]; proxy_list"
   ]
  },
  {
   "cell_type": "code",
   "execution_count": 25,
   "id": "2ccbce72-4b46-42d1-8c98-c3443603f811",
   "metadata": {},
   "outputs": [
    {
     "name": "stdout",
     "output_type": "stream",
     "text": [
      "207.246.105.172\n"
     ]
    }
   ],
   "source": [
    "proxies = {'http': proxy_list[1]} \n",
    "response = requests.get('http://httpbin.org/ip', proxies=proxies) \n",
    "print(response.json()['origin']) # our proxy !!"
   ]
  },
  {
   "cell_type": "code",
   "execution_count": null,
   "id": "267350b4-dbc4-4887-a42b-ec0e984b0336",
   "metadata": {},
   "outputs": [],
   "source": []
  }
 ],
 "metadata": {
  "kernelspec": {
   "display_name": "Python 3 (ipykernel)",
   "language": "python",
   "name": "python3"
  },
  "language_info": {
   "codemirror_mode": {
    "name": "ipython",
    "version": 3
   },
   "file_extension": ".py",
   "mimetype": "text/x-python",
   "name": "python",
   "nbconvert_exporter": "python",
   "pygments_lexer": "ipython3",
   "version": "3.11.0"
  }
 },
 "nbformat": 4,
 "nbformat_minor": 5
}
