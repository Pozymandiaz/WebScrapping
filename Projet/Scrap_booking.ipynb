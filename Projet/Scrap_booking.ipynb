{
 "cells": [
  {
   "cell_type": "code",
   "execution_count": 28,
   "id": "60ddb353-03ba-4b17-b293-faa1488c50ad",
   "metadata": {},
   "outputs": [],
   "source": [
    "import os\n",
    "#set your environment variable for SSL certificate\n",
    "certi_path = certi_path = \"C:\\\\Users\\\\noval\\\\anaconda3\\\\Lib\\\\site-packages\\\\certifi\\\\cacert.pem\"\n",
    "os.environ['REQUESTS_CA_BUNDLE'] = certi_path\n",
    "from selenium.webdriver.common.by import By\n",
    "from selenium import webdriver\n",
    "from selenium.webdriver.chrome.service import Service\n",
    "from webdriver_manager.chrome import ChromeDriverManager\n",
    "from selenium.webdriver.chrome.options import Options\n",
    "\n",
    "\n",
    "import requests\n",
    "from bs4 import BeautifulSoup\n",
    "\n",
    "# Initialize Chrome options\n",
    "options = Options()\n",
    "#options.add_argument(\"user-agent=Mozilla/5.0 (Windows NT 10.0; Win64; x64) AppleWebKit/537.36 (KHTML, like Gecko) Chrome/58.0.3029.110 Safari/537.3\")\n",
    "#disable the browser\n",
    "#options.add_argument(\"--headless\")\n",
    "options.add_argument(\"--disable-extensions\")\n",
    "options.add_argument(\"--ignore-certificate-errors\")\n",
    "\n",
    "# Initialize Chrome WebDriver with the specified options\n",
    "service = Service(ChromeDriverManager().install())\n",
    "driver = webdriver.Chrome(service=service, options=options)\n",
    "\n",
    "\n",
    "# waits up to 10 seconds before throwing a NoSuchElementException\n",
    "driver.implicitly_wait(10)"
   ]
  },
  {
   "cell_type": "code",
   "execution_count": 29,
   "id": "479f9b3f-8938-4a6a-bcfd-3e66165ca0e0",
   "metadata": {},
   "outputs": [],
   "source": [
    "url = \"https://www.booking.com/searchresults.fr.html?ss=Paris%2C+%C3%8Ele-de-France%2C+France&efdco=1&label=gog235jc-1DCAEoggI46AdIDVgDaE2IAQGYAQ24ARfIAQ_YAQPoAQH4AQKIAgGoAgO4AuPdj7AGwAIB0gIkNGQ1Y2JhZjctNThkMC00MGQzLWE2OGUtYjAyZjlkODJmMzQ32AIE4AIB&aid=397594&lang=fr&sb=1&src_elem=sb&src=index&dest_id=-1456928&dest_type=city&ac_position=0&ac_click_type=b&ac_langcode=fr&ac_suggestion_list_length=5&search_selected=true&search_pageview_id=0b5c46b196e200d3&ac_meta=GhAwYjVjNDZiMTk2ZTIwMGQzIAAoATICZnI6BXBhcmlzQABKAFAA&ltfd=5%3A1%3A4-2024%3A1%3A&group_adults=2&no_rooms=1&group_children=0\"\n",
    "data       = []"
   ]
  },
  {
   "cell_type": "code",
   "execution_count": 31,
   "id": "3350616a-1136-4095-9b19-6fdfe737750e",
   "metadata": {},
   "outputs": [],
   "source": [
    "driver.get(url)\n",
    "soup  = BeautifulSoup(driver.page_source)"
   ]
  },
  {
   "cell_type": "code",
   "execution_count": 32,
   "id": "59593e40-f99d-4a6c-aab8-707cf4cd8e7e",
   "metadata": {},
   "outputs": [
    {
     "data": {
      "text/plain": [
       "<div class=\"d6767e681c\"><h3 class=\"aab71f8e4e\"><a class=\"a78ca197d0\" data-testid=\"title-link\" href=\"https://www.booking.com/hotel/fr/hotelf1-paris-porte-de-chatillon-paris.fr.html?label=gog235jc-1FCAEoggI46AdIDVgDaE2IAQGYAQ24ARfIAQ_YAQHoAQH4AQKIAgGoAgO4AuPdj7AGwAIB0gIkNGQ1Y2JhZjctNThkMC00MGQzLWE2OGUtYjAyZjlkODJmMzQ32AIF4AIB&amp;aid=397594&amp;ucfs=1&amp;arphpl=1&amp;checkin=2024-04-19&amp;checkout=2024-04-20&amp;dest_id=-1456928&amp;dest_type=city&amp;group_adults=2&amp;req_adults=2&amp;no_rooms=1&amp;group_children=0&amp;req_children=0&amp;hpos=1&amp;hapos=1&amp;sr_order=popularity&amp;srpvid=6ee64a7daa240280&amp;srepoch=1711535741&amp;all_sr_blocks=154996008_93782682_2_2_0&amp;highlighted_blocks=154996008_93782682_2_2_0&amp;matching_block_id=154996008_93782682_2_2_0&amp;sr_pri_blocks=154996008_93782682_2_2_0__5224&amp;from_sustainable_property_sr=1&amp;from=searchresults#hotelTmpl\" rel=\"noopener noreferrer\" target=\"_blank\"><div class=\"f6431b446c a15b38c233\" data-testid=\"title\">hotelF1 Paris Porte de Châtillon</div><div class=\"ac4a7896c7\">Une nouvelle fenêtre va s'ouvrir</div></a></h3><div class=\"d8c86a593f\"><span class=\"f419a93f12\"><div aria-expanded=\"false\" aria-label=\"1 sur 5\" class=\"b3f3c831be\" tabindex=\"0\"><div aria-hidden=\"true\" class=\"a455730030\" data-testid=\"rating-stars\" role=\"img\"><span aria-hidden=\"true\" class=\"fcd9eec8fb d31eda6efc c25361c37f\"><svg viewbox=\"0 0 24 24\" xmlns=\"http://www.w3.org/2000/svg\"><path d=\"M23.555 8.729a1.505 1.505 0 0 0-1.406-.98h-6.087a.5.5 0 0 1-.472-.334l-2.185-6.193a1.5 1.5 0 0 0-2.81 0l-.005.016-2.18 6.177a.5.5 0 0 1-.471.334H1.85A1.5 1.5 0 0 0 .887 10.4l5.184 4.3a.5.5 0 0 1 .155.543l-2.178 6.531a1.5 1.5 0 0 0 2.31 1.684l5.346-3.92a.5.5 0 0 1 .591 0l5.344 3.919a1.5 1.5 0 0 0 2.312-1.683l-2.178-6.535a.5.5 0 0 1 .155-.543l5.194-4.306a1.5 1.5 0 0 0 .433-1.661z\"></path></svg></span></div></div></span></div></div>"
      ]
     },
     "execution_count": 32,
     "metadata": {},
     "output_type": "execute_result"
    }
   ],
   "source": [
    "hotels = soup.find_all(\"div\", class_=\"d6767e681c\")\n",
    "hotels[0]"
   ]
  },
  {
   "cell_type": "code",
   "execution_count": 33,
   "id": "ba8c5883-f60e-4f6d-b52f-55448307ed46",
   "metadata": {},
   "outputs": [
    {
     "name": "stdout",
     "output_type": "stream",
     "text": [
      "hotelF1 Paris Porte de ChâtillonUne nouvelle fenêtre va s'ouvrir\n",
      "https://www.booking.com/hotel/fr/hotelf1-paris-porte-de-chatillon-paris.fr.html?label=gog235jc-1FCAEoggI46AdIDVgDaE2IAQGYAQ24ARfIAQ_YAQHoAQH4AQKIAgGoAgO4AuPdj7AGwAIB0gIkNGQ1Y2JhZjctNThkMC00MGQzLWE2OGUtYjAyZjlkODJmMzQ32AIF4AIB&aid=397594&ucfs=1&arphpl=1&checkin=2024-04-19&checkout=2024-04-20&dest_id=-1456928&dest_type=city&group_adults=2&req_adults=2&no_rooms=1&group_children=0&req_children=0&hpos=1&hapos=1&sr_order=popularity&srpvid=6ee64a7daa240280&srepoch=1711535741&all_sr_blocks=154996008_93782682_2_2_0&highlighted_blocks=154996008_93782682_2_2_0&matching_block_id=154996008_93782682_2_2_0&sr_pri_blocks=154996008_93782682_2_2_0__5224&from_sustainable_property_sr=1&from=searchresults#hotelTmpl\n"
     ]
    }
   ],
   "source": [
    "hotels = soup.find_all(\"div\", class_=\"d6767e681c\")\n",
    "for hotel in hotels:\n",
    "    name = hotel.find(\"a\").text\n",
    "    url = hotel.find(\"a\")['href']\n",
    "    print(name)\n",
    "    print(url)\n",
    "    break\n",
    "    "
   ]
  },
  {
   "cell_type": "code",
   "execution_count": 50,
   "id": "0d8092cc-be51-4a62-8c4d-8263dc1abcb8",
   "metadata": {},
   "outputs": [
    {
     "ename": "AttributeError",
     "evalue": "'NoneType' object has no attribute 'text'",
     "output_type": "error",
     "traceback": [
      "\u001b[1;31m---------------------------------------------------------------------------\u001b[0m",
      "\u001b[1;31mAttributeError\u001b[0m                            Traceback (most recent call last)",
      "Cell \u001b[1;32mIn[50], line 8\u001b[0m\n\u001b[0;32m      6\u001b[0m soup2 \u001b[38;5;241m=\u001b[39m BeautifulSoup(driver\u001b[38;5;241m.\u001b[39mpage_source)\n\u001b[0;32m      7\u001b[0m note \u001b[38;5;241m=\u001b[39m soup2\u001b[38;5;241m.\u001b[39mfind(\u001b[38;5;124m\"\u001b[39m\u001b[38;5;124mdiv\u001b[39m\u001b[38;5;124m\"\u001b[39m,class_\u001b[38;5;241m=\u001b[39m\u001b[38;5;124m\"\u001b[39m\u001b[38;5;124ma3b8729ab1 d86cee9b25\u001b[39m\u001b[38;5;124m\"\u001b[39m)\u001b[38;5;241m.\u001b[39mtext\n\u001b[1;32m----> 8\u001b[0m nbr_avis \u001b[38;5;241m=\u001b[39m \u001b[43msoup2\u001b[49m\u001b[38;5;241;43m.\u001b[39;49m\u001b[43mfind\u001b[49m\u001b[43m(\u001b[49m\u001b[38;5;124;43m\"\u001b[39;49m\u001b[38;5;124;43mdiv\u001b[39;49m\u001b[38;5;124;43m\"\u001b[39;49m\u001b[43m,\u001b[49m\u001b[43mclass_\u001b[49m\u001b[38;5;241;43m=\u001b[39;49m\u001b[38;5;124;43m\"\u001b[39;49m\u001b[38;5;124;43ma3b8729ab1 f45d8e4c32 d935416c47\u001b[39;49m\u001b[38;5;124;43m\"\u001b[39;49m\u001b[43m)\u001b[49m\u001b[38;5;241;43m.\u001b[39;49m\u001b[43mtext\u001b[49m\n\u001b[0;32m      9\u001b[0m rang \u001b[38;5;241m=\u001b[39m soup2\u001b[38;5;241m.\u001b[39mfind_all(\u001b[38;5;124m\"\u001b[39m\u001b[38;5;124mdiv\u001b[39m\u001b[38;5;124m\"\u001b[39m,class_\u001b[38;5;241m=\u001b[39m\u001b[38;5;124m\"\u001b[39m\u001b[38;5;124ma3b8729ab1 e6208ee469 cb2cbb3ccb\u001b[39m\u001b[38;5;124m\"\u001b[39m)[\u001b[38;5;241m0\u001b[39m]\u001b[38;5;241m.\u001b[39mtext\n\u001b[0;32m     10\u001b[0m prix \u001b[38;5;241m=\u001b[39m soup2\u001b[38;5;241m.\u001b[39mfind(\u001b[38;5;124m\"\u001b[39m\u001b[38;5;124mspan\u001b[39m\u001b[38;5;124m\"\u001b[39m,class_\u001b[38;5;241m=\u001b[39m\u001b[38;5;124m\"\u001b[39m\u001b[38;5;124mprco-valign-middle-helper\u001b[39m\u001b[38;5;124m\"\u001b[39m)\u001b[38;5;241m.\u001b[39mtext\n",
      "\u001b[1;31mAttributeError\u001b[0m: 'NoneType' object has no attribute 'text'"
     ]
    }
   ],
   "source": [
    "hotels = soup.find_all(\"div\", class_=\"d6767e681c\")\n",
    "for hotel in hotels:\n",
    "    name = hotel.find(\"a\").text\n",
    "    hotel_url  = hotel.find(\"a\")['href']\n",
    "    driver.get(hotel_url)\n",
    "    soup2 = BeautifulSoup(driver.page_source)\n",
    "    note = soup2.find(\"div\",class_=\"a3b8729ab1 d86cee9b25\").text\n",
    "    nbr_avis = soup2.find(\"div\",class_=\"a3b8729ab1 f45d8e4c32 d935416c47\").text\n",
    "    rang = soup2.find_all(\"div\",class_=\"a3b8729ab1 e6208ee469 cb2cbb3ccb\")[0].text\n",
    "    prix = soup2.find(\"span\",class_=\"prco-valign-middle-helper\").text\n",
    "    data.append({\n",
    "        \"name\":name,\n",
    "        \"hotel_url\":hotel_url,\n",
    "        \"note\":note,\n",
    "        \"prix\":prix,\n",
    "    })\n",
    "    break"
   ]
  },
  {
   "cell_type": "code",
   "execution_count": 45,
   "id": "13fcb351-37e7-4236-97c0-483ed01160d7",
   "metadata": {},
   "outputs": [],
   "source": [
    "df = pd.DataFrame(data)"
   ]
  },
  {
   "cell_type": "code",
   "execution_count": 47,
   "id": "22083e18-7884-4936-a389-d3f58d371ec3",
   "metadata": {},
   "outputs": [],
   "source": [
    "df.to_csv('./Hotels_Paris.csv',index=False)"
   ]
  },
  {
   "cell_type": "code",
   "execution_count": null,
   "id": "56a06c4f-92f5-4b15-b448-1d09ed71fa76",
   "metadata": {},
   "outputs": [],
   "source": []
  }
 ],
 "metadata": {
  "kernelspec": {
   "display_name": "Python 3 (ipykernel)",
   "language": "python",
   "name": "python3"
  },
  "language_info": {
   "codemirror_mode": {
    "name": "ipython",
    "version": 3
   },
   "file_extension": ".py",
   "mimetype": "text/x-python",
   "name": "python",
   "nbconvert_exporter": "python",
   "pygments_lexer": "ipython3",
   "version": "3.11.0"
  }
 },
 "nbformat": 4,
 "nbformat_minor": 5
}
