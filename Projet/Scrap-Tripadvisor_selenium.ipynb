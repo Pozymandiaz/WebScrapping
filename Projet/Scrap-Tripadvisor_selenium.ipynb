{
 "cells": [
  {
   "cell_type": "code",
   "execution_count": 45,
   "id": "067b94d9-62eb-4ab0-b120-59595b47dd88",
   "metadata": {},
   "outputs": [],
   "source": [
    "import os\n",
    "#set your environment variable for SSL certificate\n",
    "certi_path = certi_path = \"C:\\\\Users\\\\noval\\\\anaconda3\\\\Lib\\\\site-packages\\\\certifi\\\\cacert.pem\"\n",
    "os.environ['REQUESTS_CA_BUNDLE'] = certi_path\n",
    "from selenium.webdriver.common.by import By\n",
    "from selenium import webdriver\n",
    "from selenium.webdriver.chrome.service import Service\n",
    "from webdriver_manager.chrome import ChromeDriverManager\n",
    "from selenium.webdriver.chrome.options import Options\n",
    "\n",
    "\n",
    "import requests\n",
    "from bs4 import BeautifulSoup\n",
    "\n",
    "# Initialize Chrome options\n",
    "options = Options()\n",
    "#options.add_argument(\"user-agent=Mozilla/5.0 (Windows NT 10.0; Win64; x64) AppleWebKit/537.36 (KHTML, like Gecko) Chrome/58.0.3029.110 Safari/537.3\")\n",
    "#disable the browser\n",
    "#options.add_argument(\"--headless\")\n",
    "options.add_argument(\"--disable-extensions\")\n",
    "options.add_argument(\"--ignore-certificate-errors\")\n",
    "\n",
    "# Initialize Chrome WebDriver with the specified options\n",
    "service = Service(ChromeDriverManager().install())\n",
    "driver = webdriver.Chrome(service=service, options=options)\n",
    "\n",
    "\n",
    "# waits up to 10 seconds before throwing a NoSuchElementException\n",
    "driver.implicitly_wait(10)"
   ]
  },
  {
   "cell_type": "code",
   "execution_count": 2,
   "id": "93fe7836-33cd-4078-89c4-04d6abb70ce0",
   "metadata": {},
   "outputs": [
    {
     "name": "stdout",
     "output_type": "stream",
     "text": [
      "Collecting webdriver-manager\n",
      "  Downloading webdriver_manager-4.0.1-py2.py3-none-any.whl.metadata (12 kB)\n",
      "Requirement already satisfied: requests in c:\\python311\\lib\\site-packages (from webdriver-manager) (2.31.0)\n",
      "Requirement already satisfied: python-dotenv in c:\\python311\\lib\\site-packages (from webdriver-manager) (1.0.0)\n",
      "Requirement already satisfied: packaging in c:\\python311\\lib\\site-packages (from webdriver-manager) (23.2)\n",
      "Requirement already satisfied: charset-normalizer<4,>=2 in c:\\python311\\lib\\site-packages (from requests->webdriver-manager) (3.3.2)\n",
      "Requirement already satisfied: idna<4,>=2.5 in c:\\python311\\lib\\site-packages (from requests->webdriver-manager) (3.6)\n",
      "Requirement already satisfied: urllib3<3,>=1.21.1 in c:\\python311\\lib\\site-packages (from requests->webdriver-manager) (2.1.0)\n",
      "Requirement already satisfied: certifi>=2017.4.17 in c:\\python311\\lib\\site-packages (from requests->webdriver-manager) (2024.2.2)\n",
      "Downloading webdriver_manager-4.0.1-py2.py3-none-any.whl (27 kB)\n",
      "Installing collected packages: webdriver-manager\n",
      "Successfully installed webdriver-manager-4.0.1\n",
      "Note: you may need to restart the kernel to use updated packages.\n"
     ]
    },
    {
     "name": "stderr",
     "output_type": "stream",
     "text": [
      "\n",
      "[notice] A new release of pip is available: 23.3.1 -> 24.0\n",
      "[notice] To update, run: python.exe -m pip install --upgrade pip\n"
     ]
    }
   ],
   "source": [
    "pip install webdriver-manager"
   ]
  },
  {
   "cell_type": "code",
   "execution_count": 46,
   "id": "45b47f0a-4d0d-4349-918d-fd5a37056fcb",
   "metadata": {},
   "outputs": [],
   "source": [
    "url = \"https://www.tripadvisor.fr/Restaurants-g187147-Paris_Ile_de_France.html\"\n",
    "data       = []"
   ]
  },
  {
   "cell_type": "code",
   "execution_count": 47,
   "id": "25d68159-4a0f-47ac-8c9e-dbd9f430378d",
   "metadata": {},
   "outputs": [],
   "source": [
    "driver.get(url)\n",
    "soup  = BeautifulSoup(driver.page_source)"
   ]
  },
  {
   "cell_type": "code",
   "execution_count": 6,
   "id": "ff219c19-5ecb-480d-ac34-a3f1a3b4314c",
   "metadata": {},
   "outputs": [],
   "source": [
    "service = Service(ChromeDriverManager().install())\n",
    "driver = webdriver.Chrome(service=service, options=options)\n",
    "driver.implicitly_wait(10)"
   ]
  },
  {
   "cell_type": "code",
   "execution_count": 7,
   "id": "33b8682b-2105-476a-94d6-0dec0fbd9887",
   "metadata": {},
   "outputs": [
    {
     "ename": "NameError",
     "evalue": "name 'scrape_url' is not defined",
     "output_type": "error",
     "traceback": [
      "\u001b[1;31m---------------------------------------------------------------------------\u001b[0m",
      "\u001b[1;31mNameError\u001b[0m                                 Traceback (most recent call last)",
      "Cell \u001b[1;32mIn[7], line 1\u001b[0m\n\u001b[1;32m----> 1\u001b[0m driver\u001b[38;5;241m.\u001b[39mget(\u001b[43mscrape_url\u001b[49m)\n",
      "\u001b[1;31mNameError\u001b[0m: name 'scrape_url' is not defined"
     ]
    }
   ],
   "source": [
    "driver.get(scrape_url)"
   ]
  },
  {
   "cell_type": "code",
   "execution_count": 8,
   "id": "18dbb8f1-8cb0-4fbe-996c-c5a77650597e",
   "metadata": {},
   "outputs": [],
   "source": [
    "driver.get(url)"
   ]
  },
  {
   "cell_type": "code",
   "execution_count": 48,
   "id": "043235de-d212-4f3a-ab15-98c3973c3323",
   "metadata": {},
   "outputs": [
    {
     "data": {
      "text/plain": [
       "<div class=\"yJIls z y\"><header class=\"PKlBC y _T\"><div class=\"jhsNf N G\"><div></div><div class=\"jhsNf N G\"><div class=\"VDEXx u Ff K\"><div class=\"\"><div><div class=\"DgJpu\"><button aria-labelledby=\":lithium-R5hj0ngqkqlsnsla:\" class=\"ypcsE _S wSSLS\" type=\"button\"><div class=\"ngpKT WywIO\"><span class=\"biGQs _P egaXP osNWb\">Annonce</span><svg class=\"d Vb UmNoP\" height=\"14px\" viewbox=\"0 0 24 24\" width=\"14px\"><path d=\"M11 10v7h2v-7h-2zM10.966 7.048a1.25 1.25 0 00-.216.692A1.24 1.24 0 0012 9a1.25 1.25 0 10-1.034-1.952z\"></path><path clip-rule=\"evenodd\" d=\"M12 2C6.477 2 2 6.477 2 12s4.477 10 10 10 10-4.477 10-10S17.523 2 12 2zM4 12a8 8 0 1116 0 8 8 0 01-16 0z\" fill-rule=\"evenodd\"></path></svg></div></button><span class=\"KrpDA o\" id=\":lithium-R5hj0ngqkqlsnsla:\">Vous voyez cette publicité parce que ce restaurant est similaire aux autres établissements affichés sur cette page et paye Tripadvisor pour être mis en avant à cette position. Tripadvisor ne vous montre pas ce contenu en fonction de votre activité en ligne ou de vos données personnelles.</span></div></div></div><div class=\"biGQs _P fiohW alXOW NwcxK GzNcM ytVPx UTQMg RnEEZ ngXxk\"><a class=\"BMQDV _F Gv wSSLS SwZTJ FGwzt ukgoS\" href=\"/Restaurant_Review-g187147-d3359968-Reviews-Le_Carpaccio-Paris_Ile_de_France.html\" target=\"_blank\">Le Carpaccio</a></div></div><div class=\"wcniE o\"><div><div class=\"OvkNT K u\"><span class=\"Ctbst HLTMv\"><span class=\"YECgr Tsrjt\"><span><a class=\"aWhIG _S\" href=\"/Restaurant_Review-g187147-d3359968-Reviews-Le_Carpaccio-Paris_Ile_de_France.html#REVIEWS\" target=\"_blank\"><span class=\"Qqwyj\"><svg aria-labelledby=\":lithium-R1imhj0ngqkqlsnsla:\" class=\"UctUV d H0\" height=\"16\" viewbox=\"0 0 128 24\" width=\"88\"><title id=\":lithium-R1imhj0ngqkqlsnsla:\">4,5 sur 5 bulles</title><path d=\"M 12 0C5.388 0 0 5.388 0 12s5.388 12 12 12 12-5.38 12-12c0-6.612-5.38-12-12-12z\" transform=\"\"></path><path d=\"M 12 0C5.388 0 0 5.388 0 12s5.388 12 12 12 12-5.38 12-12c0-6.612-5.38-12-12-12z\" transform=\"translate(26 0)\"></path><path d=\"M 12 0C5.388 0 0 5.388 0 12s5.388 12 12 12 12-5.38 12-12c0-6.612-5.38-12-12-12z\" transform=\"translate(52 0)\"></path><path d=\"M 12 0C5.388 0 0 5.388 0 12s5.388 12 12 12 12-5.38 12-12c0-6.612-5.38-12-12-12z\" transform=\"translate(78 0)\"></path><path d=\"M 12 0C5.389 0 0 5.389 0 12c0 6.62 5.389 12 12 12 6.62 0 12-5.379 12-12S18.621 0 12 0zm0 2a9.984 9.984 0 0110 10 9.976 9.976 0 01-10 10z\" transform=\"translate(104 0)\"></path></svg></span><span class=\"IiChw\">459<!-- --> avis</span></a></span></span></span><span class=\"HLTMv lpulq\"><span class=\"YECgr\">Fermé à l'heure actuelle</span></span></div><div class=\"OvkNT K u FGSTQ\"><span class=\"HLTMv\"><span class=\"YECgr Tsrjt\">Italienne, Européenne</span></span><span class=\"HLTMv\"><span class=\"YECgr\">€€-€€€</span></span></div></div></div></div></div></header><div class=\"TQNqt y _T\"><div><div class=\"jLwaS w\"></div><div class=\"EGgBc Ci\"><div class=\"wZfxE RBAZh\"><span><a class=\"aWhIG _S fnrKq\" href=\"/ShowUserReviews-g187147-d3359968-r940186393-Le_Carpaccio-Paris_Ile_de_France.html\" target=\"_blank\"><span class=\"tvdtW\">très bien accueilli service rapide</span></a></span></div><div class=\"wZfxE zEqVH\"><span><a class=\"aWhIG _S fnrKq\" href=\"/ShowUserReviews-g187147-d3359968-r930936965-Le_Carpaccio-Paris_Ile_de_France.html\" target=\"_blank\"><span class=\"tvdtW\">Parfait</span></a></span></div></div></div><div class=\"DDEPW\"></div></div><footer class=\"TbPby y _T\"></footer></div>"
      ]
     },
     "execution_count": 48,
     "metadata": {},
     "output_type": "execute_result"
    }
   ],
   "source": [
    "restaurants = soup.find_all(\"div\", class_=\"yJIls z y\")\n",
    "restaurants[0]"
   ]
  },
  {
   "cell_type": "code",
   "execution_count": 10,
   "id": "76979a3e-0bc0-4dbd-ab5b-783cabaae410",
   "metadata": {},
   "outputs": [],
   "source": [
    "from bs4 import BeautifulSoup\n",
    "from webdriver_manager.chrome import ChromeDriverManager"
   ]
  },
  {
   "cell_type": "code",
   "execution_count": 49,
   "id": "aea8b9d9-d71f-40ea-9a26-4538510b4d7d",
   "metadata": {},
   "outputs": [],
   "source": [
    "soup  = BeautifulSoup(driver.page_source)"
   ]
  },
  {
   "cell_type": "code",
   "execution_count": 50,
   "id": "46f3180a-d9cc-47a0-9f84-47fb54ce821b",
   "metadata": {},
   "outputs": [
    {
     "name": "stdout",
     "output_type": "stream",
     "text": [
      "/Restaurant_Review-g187147-d3359968-Reviews-Le_Carpaccio-Paris_Ile_de_France.html\n"
     ]
    }
   ],
   "source": [
    "restaurants = soup.find_all(\"div\", class_=\"yJIls z y\")\n",
    "for restaurant in restaurants:\n",
    "    name = restaurant.find(\"a\").text\n",
    "    url = restaurant.find(\"a\")['href']\n",
    "    print(url)\n",
    "    break\n",
    "    "
   ]
  },
  {
   "cell_type": "code",
   "execution_count": 51,
   "id": "f74a8733-b218-4237-bd1e-5e1e35f07e1b",
   "metadata": {},
   "outputs": [
    {
     "name": "stdout",
     "output_type": "stream",
     "text": [
      "/Restaurant_Review-g187147-d3359968-Reviews-Le_Carpaccio-Paris_Ile_de_France.html\n"
     ]
    }
   ],
   "source": [
    "restaurants = soup.find_all(\"div\", class_=\"yJIls z y\")\n",
    "for restaurant in restaurants:\n",
    "    name = restaurant.find(\"a\").text\n",
    "    resto_url  = \"https://www.tripadvisor.com\"+restaurant.find(\"a\")['href']\n",
    "    print(url)\n",
    "    break\n",
    "    "
   ]
  },
  {
   "cell_type": "code",
   "execution_count": 52,
   "id": "399643a8-80db-49c3-aedd-74dfc0845f94",
   "metadata": {},
   "outputs": [
    {
     "ename": "NoSuchWindowException",
     "evalue": "Message: no such window: target window already closed\nfrom unknown error: web view not found\n  (Session info: chrome=123.0.6312.59)\nStacktrace:\n\tGetHandleVerifier [0x00524CC3+225091]\n\t(No symbol) [0x00454E11]\n\t(No symbol) [0x002F9A7A]\n\t(No symbol) [0x002DE312]\n\t(No symbol) [0x0035517B]\n\t(No symbol) [0x003655A6]\n\t(No symbol) [0x0034F2F6]\n\t(No symbol) [0x003279B9]\n\t(No symbol) [0x0032879D]\n\tsqlite3_dbdata_init [0x00999A63+4064547]\n\tsqlite3_dbdata_init [0x009A106A+4094762]\n\tsqlite3_dbdata_init [0x0099B968+4072488]\n\tsqlite3_dbdata_init [0x0069C9C9+930953]\n\t(No symbol) [0x004607E4]\n\t(No symbol) [0x0045AD08]\n\t(No symbol) [0x0045AE31]\n\t(No symbol) [0x0044CAA0]\n\tBaseThreadInitThunk [0x76697BA9+25]\n\tRtlInitializeExceptionChain [0x7708BDAB+107]\n\tRtlClearBits [0x7708BD2F+191]\n",
     "output_type": "error",
     "traceback": [
      "\u001b[1;31m---------------------------------------------------------------------------\u001b[0m",
      "\u001b[1;31mNoSuchWindowException\u001b[0m                     Traceback (most recent call last)",
      "Cell \u001b[1;32mIn[52], line 6\u001b[0m\n\u001b[0;32m      4\u001b[0m resto_url  \u001b[38;5;241m=\u001b[39m \u001b[38;5;124m\"\u001b[39m\u001b[38;5;124mhttps://www.tripadvisor.com\u001b[39m\u001b[38;5;124m\"\u001b[39m\u001b[38;5;241m+\u001b[39mrestaurant\u001b[38;5;241m.\u001b[39mfind(\u001b[38;5;124m\"\u001b[39m\u001b[38;5;124ma\u001b[39m\u001b[38;5;124m\"\u001b[39m)[\u001b[38;5;124m'\u001b[39m\u001b[38;5;124mhref\u001b[39m\u001b[38;5;124m'\u001b[39m]\n\u001b[0;32m      5\u001b[0m driver\u001b[38;5;241m.\u001b[39mget(resto_url)\n\u001b[1;32m----> 6\u001b[0m soup2 \u001b[38;5;241m=\u001b[39m BeautifulSoup(\u001b[43mdriver\u001b[49m\u001b[38;5;241;43m.\u001b[39;49m\u001b[43mpage_source\u001b[49m)\n",
      "File \u001b[1;32mC:\\Python311\\Lib\\site-packages\\selenium\\webdriver\\remote\\webdriver.py:448\u001b[0m, in \u001b[0;36mWebDriver.page_source\u001b[1;34m(self)\u001b[0m\n\u001b[0;32m    439\u001b[0m \u001b[38;5;129m@property\u001b[39m\n\u001b[0;32m    440\u001b[0m \u001b[38;5;28;01mdef\u001b[39;00m \u001b[38;5;21mpage_source\u001b[39m(\u001b[38;5;28mself\u001b[39m) \u001b[38;5;241m-\u001b[39m\u001b[38;5;241m>\u001b[39m \u001b[38;5;28mstr\u001b[39m:\n\u001b[0;32m    441\u001b[0m \u001b[38;5;250m    \u001b[39m\u001b[38;5;124;03m\"\"\"Gets the source of the current page.\u001b[39;00m\n\u001b[0;32m    442\u001b[0m \n\u001b[0;32m    443\u001b[0m \u001b[38;5;124;03m    :Usage:\u001b[39;00m\n\u001b[1;32m   (...)\u001b[0m\n\u001b[0;32m    446\u001b[0m \u001b[38;5;124;03m            driver.page_source\u001b[39;00m\n\u001b[0;32m    447\u001b[0m \u001b[38;5;124;03m    \"\"\"\u001b[39;00m\n\u001b[1;32m--> 448\u001b[0m     \u001b[38;5;28;01mreturn\u001b[39;00m \u001b[38;5;28;43mself\u001b[39;49m\u001b[38;5;241;43m.\u001b[39;49m\u001b[43mexecute\u001b[49m\u001b[43m(\u001b[49m\u001b[43mCommand\u001b[49m\u001b[38;5;241;43m.\u001b[39;49m\u001b[43mGET_PAGE_SOURCE\u001b[49m\u001b[43m)\u001b[49m[\u001b[38;5;124m\"\u001b[39m\u001b[38;5;124mvalue\u001b[39m\u001b[38;5;124m\"\u001b[39m]\n",
      "File \u001b[1;32mC:\\Python311\\Lib\\site-packages\\selenium\\webdriver\\remote\\webdriver.py:347\u001b[0m, in \u001b[0;36mWebDriver.execute\u001b[1;34m(self, driver_command, params)\u001b[0m\n\u001b[0;32m    345\u001b[0m response \u001b[38;5;241m=\u001b[39m \u001b[38;5;28mself\u001b[39m\u001b[38;5;241m.\u001b[39mcommand_executor\u001b[38;5;241m.\u001b[39mexecute(driver_command, params)\n\u001b[0;32m    346\u001b[0m \u001b[38;5;28;01mif\u001b[39;00m response:\n\u001b[1;32m--> 347\u001b[0m     \u001b[38;5;28;43mself\u001b[39;49m\u001b[38;5;241;43m.\u001b[39;49m\u001b[43merror_handler\u001b[49m\u001b[38;5;241;43m.\u001b[39;49m\u001b[43mcheck_response\u001b[49m\u001b[43m(\u001b[49m\u001b[43mresponse\u001b[49m\u001b[43m)\u001b[49m\n\u001b[0;32m    348\u001b[0m     response[\u001b[38;5;124m\"\u001b[39m\u001b[38;5;124mvalue\u001b[39m\u001b[38;5;124m\"\u001b[39m] \u001b[38;5;241m=\u001b[39m \u001b[38;5;28mself\u001b[39m\u001b[38;5;241m.\u001b[39m_unwrap_value(response\u001b[38;5;241m.\u001b[39mget(\u001b[38;5;124m\"\u001b[39m\u001b[38;5;124mvalue\u001b[39m\u001b[38;5;124m\"\u001b[39m, \u001b[38;5;28;01mNone\u001b[39;00m))\n\u001b[0;32m    349\u001b[0m     \u001b[38;5;28;01mreturn\u001b[39;00m response\n",
      "File \u001b[1;32mC:\\Python311\\Lib\\site-packages\\selenium\\webdriver\\remote\\errorhandler.py:229\u001b[0m, in \u001b[0;36mErrorHandler.check_response\u001b[1;34m(self, response)\u001b[0m\n\u001b[0;32m    227\u001b[0m         alert_text \u001b[38;5;241m=\u001b[39m value[\u001b[38;5;124m\"\u001b[39m\u001b[38;5;124malert\u001b[39m\u001b[38;5;124m\"\u001b[39m]\u001b[38;5;241m.\u001b[39mget(\u001b[38;5;124m\"\u001b[39m\u001b[38;5;124mtext\u001b[39m\u001b[38;5;124m\"\u001b[39m)\n\u001b[0;32m    228\u001b[0m     \u001b[38;5;28;01mraise\u001b[39;00m exception_class(message, screen, stacktrace, alert_text)  \u001b[38;5;66;03m# type: ignore[call-arg]  # mypy is not smart enough here\u001b[39;00m\n\u001b[1;32m--> 229\u001b[0m \u001b[38;5;28;01mraise\u001b[39;00m exception_class(message, screen, stacktrace)\n",
      "\u001b[1;31mNoSuchWindowException\u001b[0m: Message: no such window: target window already closed\nfrom unknown error: web view not found\n  (Session info: chrome=123.0.6312.59)\nStacktrace:\n\tGetHandleVerifier [0x00524CC3+225091]\n\t(No symbol) [0x00454E11]\n\t(No symbol) [0x002F9A7A]\n\t(No symbol) [0x002DE312]\n\t(No symbol) [0x0035517B]\n\t(No symbol) [0x003655A6]\n\t(No symbol) [0x0034F2F6]\n\t(No symbol) [0x003279B9]\n\t(No symbol) [0x0032879D]\n\tsqlite3_dbdata_init [0x00999A63+4064547]\n\tsqlite3_dbdata_init [0x009A106A+4094762]\n\tsqlite3_dbdata_init [0x0099B968+4072488]\n\tsqlite3_dbdata_init [0x0069C9C9+930953]\n\t(No symbol) [0x004607E4]\n\t(No symbol) [0x0045AD08]\n\t(No symbol) [0x0045AE31]\n\t(No symbol) [0x0044CAA0]\n\tBaseThreadInitThunk [0x76697BA9+25]\n\tRtlInitializeExceptionChain [0x7708BDAB+107]\n\tRtlClearBits [0x7708BD2F+191]\n"
     ]
    }
   ],
   "source": [
    "restaurants = soup.find_all(\"div\", class_=\"yJIls z y\")\n",
    "for restaurant in restaurants:\n",
    "    name = restaurant.find(\"a\").text\n",
    "    resto_url  = \"https://www.tripadvisor.com\"+restaurant.find(\"a\")['href']\n",
    "    driver.get(resto_url)\n",
    "    soup2 = BeautifulSoup(driver.page_source)\n",
    "    "
   ]
  },
  {
   "cell_type": "code",
   "execution_count": 24,
   "id": "1610abf1-aec7-49df-bc45-efd4c908cac1",
   "metadata": {},
   "outputs": [
    {
     "data": {
      "text/plain": [
       "['http://79.137.194.110:80',\n",
       " 'http://207.246.105.172:8899',\n",
       " 'http://79.137.194.110:80']"
      ]
     },
     "execution_count": 24,
     "metadata": {},
     "output_type": "execute_result"
    }
   ],
   "source": [
    "proxy_list = [FreeProxy(country_id=['FR']).get() for x in range(3)]; proxy_list"
   ]
  },
  {
   "cell_type": "code",
   "execution_count": 25,
   "id": "2ccbce72-4b46-42d1-8c98-c3443603f811",
   "metadata": {},
   "outputs": [
    {
     "name": "stdout",
     "output_type": "stream",
     "text": [
      "207.246.105.172\n"
     ]
    }
   ],
   "source": [
    "proxies = {'http': proxy_list[1]} \n",
    "response = requests.get('http://httpbin.org/ip', proxies=proxies) \n",
    "print(response.json()['origin']) # our proxy !!"
   ]
  },
  {
   "cell_type": "code",
   "execution_count": null,
   "id": "267350b4-dbc4-4887-a42b-ec0e984b0336",
   "metadata": {},
   "outputs": [],
   "source": []
  }
 ],
 "metadata": {
  "kernelspec": {
   "display_name": "Python 3 (ipykernel)",
   "language": "python",
   "name": "python3"
  },
  "language_info": {
   "codemirror_mode": {
    "name": "ipython",
    "version": 3
   },
   "file_extension": ".py",
   "mimetype": "text/x-python",
   "name": "python",
   "nbconvert_exporter": "python",
   "pygments_lexer": "ipython3",
   "version": "3.11.0"
  }
 },
 "nbformat": 4,
 "nbformat_minor": 5
}
