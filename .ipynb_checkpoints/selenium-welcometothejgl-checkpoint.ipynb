{
 "cells": [
  {
   "cell_type": "code",
   "execution_count": 1,
   "id": "edc60631",
   "metadata": {},
   "outputs": [
    {
     "ename": "NameError",
     "evalue": "name 'headers_list' is not defined",
     "output_type": "error",
     "traceback": [
      "\u001b[1;31m---------------------------------------------------------------------------\u001b[0m",
      "\u001b[1;31mNameError\u001b[0m                                 Traceback (most recent call last)",
      "Cell \u001b[1;32mIn[1], line 23\u001b[0m\n\u001b[0;32m     20\u001b[0m     \u001b[38;5;28;01mreturn\u001b[39;00m driver\n\u001b[0;32m     22\u001b[0m \u001b[38;5;66;03m# Example usage\u001b[39;00m\n\u001b[1;32m---> 23\u001b[0m custom_driver \u001b[38;5;241m=\u001b[39m initialize_driver(headers_list)\n",
      "\u001b[1;31mNameError\u001b[0m: name 'headers_list' is not defined"
     ]
    }
   ],
   "source": [
    "def initialize_driver(headers_list, proxy_list):\n",
    "    options = Options()\n",
    "    #select a random user-agent from the list\n",
    "    user_agent = random.choice(headers_list)[\"User-Agent\"]\n",
    "    options.add_argument(f\"user-agent={user_agent}\")\n",
    "    \n",
    "    \n",
    "    #add some common options\n",
    "    options.add_argument(\"--headless\")\n",
    "    options.add_argument(\"--disable-extensions\")\n",
    "    options.add_argument(\"--ignore-certificate-errors\")\n",
    "\n",
    "    #initialize Chrome WebDriver with the specified options\n",
    "    service = Service(ChromeDriverManager().install())\n",
    "    driver = webdriver.Chrome(service=service, options=options)\n",
    "\n",
    "    #set implicit wait of 10sec\n",
    "    driver.implicitly_wait(10)\n",
    "\n",
    "    return driver\n",
    "\n",
    "# Example usage\n",
    "custom_driver = initialize_driver(headers_list)"
   ]
  },
  {
   "cell_type": "code",
   "execution_count": 2,
   "id": "8b57717e",
   "metadata": {},
   "outputs": [],
   "source": [
    "def initialize_driver(headers_list):\n",
    "    options = Options()\n",
    "    #select a random user-agent from the list\n",
    "    user_agent = random.choice(headers_list)[\"User-Agent\"]\n",
    "    options.add_argument(f\"user-agent={user_agent}\")\n",
    "    \n",
    "    #add some common options\n",
    "    options.add_argument(\"--headless\")\n",
    "    options.add_argument(\"--disable-extensions\")\n",
    "    options.add_argument(\"--ignore-certificate-errors\")\n",
    "\n",
    "    #initialize Chrome WebDriver with the specified options\n",
    "    service = Service(ChromeDriverManager().install())\n",
    "    driver = webdriver.Chrome(service=service, options=options)\n",
    "\n",
    "    #set implicit wait of 10sec\n",
    "    driver.implicitly_wait(10)\n",
    "\n",
    "    return driver\n"
   ]
  },
  {
   "cell_type": "code",
   "execution_count": 3,
   "id": "5e29acdb",
   "metadata": {},
   "outputs": [
    {
     "ename": "NameError",
     "evalue": "name 'headers_list' is not defined",
     "output_type": "error",
     "traceback": [
      "\u001b[1;31m---------------------------------------------------------------------------\u001b[0m",
      "\u001b[1;31mNameError\u001b[0m                                 Traceback (most recent call last)",
      "Cell \u001b[1;32mIn[3], line 1\u001b[0m\n\u001b[1;32m----> 1\u001b[0m custom_driver \u001b[38;5;241m=\u001b[39m initialize_driver(headers_list, proxy_list)\n",
      "\u001b[1;31mNameError\u001b[0m: name 'headers_list' is not defined"
     ]
    }
   ],
   "source": [
    "custom_driver = initialize_driver(headers_list, proxy_list)"
   ]
  },
  {
   "cell_type": "code",
   "execution_count": 45,
   "id": "bce41487",
   "metadata": {},
   "outputs": [],
   "source": [
    "import os\n",
    "#set your environment variable for SSL certificate\n",
    "certi_path = certi_path = \"C:\\\\Users\\\\noval\\\\anaconda3\\\\Lib\\\\site-packages\\\\certifi\\\\cacert.pem\"\n",
    "os.environ['REQUESTS_CA_BUNDLE'] = certi_path\n",
    "from selenium.webdriver.common.by import By\n",
    "from selenium import webdriver\n",
    "from selenium.webdriver.chrome.service import Service\n",
    "from webdriver_manager.chrome import ChromeDriverManager\n",
    "from selenium.webdriver.chrome.options import Options\n",
    "\n",
    "import requests\n",
    "from bs4 import BeautifulSoup\n",
    "\n",
    "# Initialize Chrome options\n",
    "options = Options()\n",
    "#options.add_argument(\"user-agent=Mozilla/5.0 (Windows NT 10.0; Win64; x64) AppleWebKit/537.36 (KHTML, like Gecko) Chrome/58.0.3029.110 Safari/537.3\")\n",
    "#disable the browser\n",
    "#options.add_argument(\"--headless\")\n",
    "options.add_argument(\"--disable-extensions\")\n",
    "options.add_argument(\"--ignore-certificate-errors\")\n",
    "\n",
    "# Initialize Chrome WebDriver with the specified options\n",
    "service = Service(ChromeDriverManager().install())\n",
    "driver = webdriver.Chrome(service=service, options=options)\n",
    "\n",
    "\n",
    "# waits up to 10 seconds before throwing a NoSuchElementException\n",
    "driver.implicitly_wait(10)"
   ]
  },
  {
   "cell_type": "code",
   "execution_count": 46,
   "id": "53e68c2a",
   "metadata": {},
   "outputs": [],
   "source": [
    "from selenium.webdriver.common.by import By\n",
    "\n",
    "driver.get(\"https://www.welcometothejungle.com/fr/jobs?page=1&refinementList%5Bprofession_name.fr.Tech%5D%5B%5D=Data%20Analysis&refinementList%5Bcontract_type_names.fr%5D%5B%5D=CDI\")"
   ]
  },
  {
   "cell_type": "code",
   "execution_count": 47,
   "id": "d05e1bb4",
   "metadata": {},
   "outputs": [],
   "source": [
    "import time\n",
    "import random"
   ]
  },
  {
   "cell_type": "code",
   "execution_count": 9,
   "id": "032e55e2",
   "metadata": {},
   "outputs": [
    {
     "ename": "NameError",
     "evalue": "name 'headers_list' is not defined",
     "output_type": "error",
     "traceback": [
      "\u001b[1;31m---------------------------------------------------------------------------\u001b[0m",
      "\u001b[1;31mNameError\u001b[0m                                 Traceback (most recent call last)",
      "Cell \u001b[1;32mIn[9], line 23\u001b[0m\n\u001b[0;32m     20\u001b[0m     \u001b[38;5;28;01mreturn\u001b[39;00m driver\n\u001b[0;32m     22\u001b[0m \u001b[38;5;66;03m# Example usage\u001b[39;00m\n\u001b[1;32m---> 23\u001b[0m custom_driver \u001b[38;5;241m=\u001b[39m initialize_driver(headers_list)\n",
      "\u001b[1;31mNameError\u001b[0m: name 'headers_list' is not defined"
     ]
    }
   ],
   "source": [
    "def initialize_driver(headers_list):\n",
    "    options = Options()\n",
    "    #select a random user-agent from the list\n",
    "    user_agent = random.choice(headers_list)[\"User-Agent\"]\n",
    "    options.add_argument(f\"user-agent={user_agent}\")\n",
    "\n",
    "    \n",
    "    #add some common options\n",
    "    options.add_argument(\"--headless\")\n",
    "    options.add_argument(\"--disable-extensions\")\n",
    "    options.add_argument(\"--ignore-certificate-errors\")\n",
    "\n",
    "    #initialize Chrome WebDriver with the specified options\n",
    "    service = Service(ChromeDriverManager().install())\n",
    "    driver = webdriver.Chrome(service=service, options=options)\n",
    "\n",
    "    #set implicit wait of 10sec\n",
    "    driver.implicitly_wait(10)\n",
    "\n",
    "    return driver\n",
    "\n",
    "# Example usage\n",
    "custom_driver = initialize_driver(headers_list)"
   ]
  },
  {
   "cell_type": "code",
   "execution_count": 48,
   "id": "03f7fd55",
   "metadata": {},
   "outputs": [
    {
     "ename": "NameError",
     "evalue": "name 'proxies' is not defined",
     "output_type": "error",
     "traceback": [
      "\u001b[1;31m---------------------------------------------------------------------------\u001b[0m",
      "\u001b[1;31mNameError\u001b[0m                                 Traceback (most recent call last)",
      "Cell \u001b[1;32mIn[48], line 67\u001b[0m\n\u001b[0;32m      1\u001b[0m headers_list \u001b[38;5;241m=\u001b[39m [\n\u001b[0;32m      2\u001b[0m     {\n\u001b[0;32m      3\u001b[0m         \u001b[38;5;124m\"\u001b[39m\u001b[38;5;124mAccept\u001b[39m\u001b[38;5;124m\"\u001b[39m: \u001b[38;5;124m\"\u001b[39m\u001b[38;5;124mtext/html,application/xhtml+xml,application/xml;q=0.9,image/avif,image/webp,image/apng,*/*;q=0.8,application/signed-exchange;v=b3;q=0.9\u001b[39m\u001b[38;5;124m\"\u001b[39m,\n\u001b[1;32m   (...)\u001b[0m\n\u001b[0;32m     63\u001b[0m     }\n\u001b[0;32m     64\u001b[0m ]\n\u001b[0;32m     66\u001b[0m headers \u001b[38;5;241m=\u001b[39m random\u001b[38;5;241m.\u001b[39mchoice(headers_list) \n\u001b[1;32m---> 67\u001b[0m response \u001b[38;5;241m=\u001b[39m requests\u001b[38;5;241m.\u001b[39mget(\u001b[38;5;124m'\u001b[39m\u001b[38;5;124mhttps://httpbin.org/headers\u001b[39m\u001b[38;5;124m'\u001b[39m, headers\u001b[38;5;241m=\u001b[39mheaders, proxies\u001b[38;5;241m=\u001b[39mproxies) \n\u001b[0;32m     68\u001b[0m \u001b[38;5;28mprint\u001b[39m(response\u001b[38;5;241m.\u001b[39mjson()[\u001b[38;5;124m'\u001b[39m\u001b[38;5;124mheaders\u001b[39m\u001b[38;5;124m'\u001b[39m])\n",
      "\u001b[1;31mNameError\u001b[0m: name 'proxies' is not defined"
     ]
    }
   ],
   "source": [
    "headers_list = [\n",
    "    {\n",
    "        \"Accept\": \"text/html,application/xhtml+xml,application/xml;q=0.9,image/avif,image/webp,image/apng,*/*;q=0.8,application/signed-exchange;v=b3;q=0.9\",\n",
    "        \"Accept-Encoding\": \"gzip, deflate, br\",\n",
    "        \"Accept-Language\": \"en-US,en;q=0.9\",\n",
    "        \"Host\": \"httpbin.org\",\n",
    "        \"Sec-Ch-Ua\": \"\\\"Chromium\\\";v=\\\"92\\\", \\\" Not A;Brand\\\";v=\\\"99\\\", \\\"Google Chrome\\\";v=\\\"92\\\"\",\n",
    "        \"Sec-Ch-Ua-Mobile\": \"?0\",\n",
    "        \"Sec-Fetch-Dest\": \"document\",\n",
    "        \"Sec-Fetch-Mode\": \"navigate\",\n",
    "        \"Sec-Fetch-Site\": \"none\",\n",
    "        \"Sec-Fetch-User\": \"?1\",\n",
    "        \"Upgrade-Insecure-Requests\": \"1\",\n",
    "        \"User-Agent\": \"Mozilla/5.0 (Windows NT 10.0; Win64; x64) AppleWebKit/537.36 (KHTML, like Gecko) Chrome/91.0.4472.124 Safari/537.36\"\n",
    "    },\n",
    "    {\n",
    "        \"Accept\": \"text/html,application/xhtml+xml,application/xml;q=0.9,image/webp,*/*;q=0.8\",\n",
    "        \"Accept-Encoding\": \"gzip, deflate, br\",\n",
    "        \"Accept-Language\": \"en-US,en;q=0.5\",\n",
    "        \"Host\": \"httpbin.org\",\n",
    "        \"Sec-Fetch-Dest\": \"document\",\n",
    "        \"Sec-Fetch-Mode\": \"navigate\",\n",
    "        \"Sec-Fetch-Site\": \"none\",\n",
    "        \"Sec-Fetch-User\": \"?1\",\n",
    "        \"Upgrade-Insecure-Requests\": \"1\",\n",
    "        \"User-Agent\": \"Mozilla/5.0 (X11; Ubuntu; Linux x86_64; rv:90.0) Gecko/20100101 Firefox/90.0\"\n",
    "    },\n",
    "    {\n",
    "        \"Accept\": \"text/html,application/xhtml+xml,application/xml;q=0.9,image/webp,*/*;q=0.8\",\n",
    "        \"Accept-Encoding\": \"gzip, deflate, br\",\n",
    "        \"Accept-Language\": \"en-US,en;q=0.5\",\n",
    "        \"Host\": \"httpbin.org\",\n",
    "        \"Sec-Fetch-Dest\": \"document\",\n",
    "        \"Sec-Fetch-Mode\": \"navigate\",\n",
    "        \"Sec-Fetch-Site\": \"none\",\n",
    "        \"Sec-Fetch-User\": \"?1\",\n",
    "        \"Upgrade-Insecure-Requests\": \"1\",\n",
    "        \"User-Agent\": \"Mozilla/5.0 (iPhone; CPU iPhone OS 14_6 like Mac OS X) AppleWebKit/605.1.15 (KHTML, like Gecko) Version/14.0 Mobile/15E148 Safari/604.1\"\n",
    "    },\n",
    "    {\n",
    "        \"Accept\": \"text/html,application/xhtml+xml,application/xml;q=0.9,*/*;q=0.8\",\n",
    "        \"Accept-Encoding\": \"gzip, deflate, br\",\n",
    "        \"Accept-Language\": \"en-GB,en;q=0.5\",\n",
    "        \"Host\": \"httpbin.org\",\n",
    "        \"Sec-Fetch-Dest\": \"document\",\n",
    "        \"Sec-Fetch-Mode\": \"navigate\",\n",
    "        \"Sec-Fetch-Site\": \"none\",\n",
    "        \"Sec-Fetch-User\": \"?1\",\n",
    "        \"Upgrade-Insecure-Requests\": \"1\",\n",
    "        \"User-Agent\": \"Mozilla/5.0 (Windows NT 6.1; WOW64; rv:54.0) Gecko/20100101 Firefox/54.0\"\n",
    "    },\n",
    "    {\n",
    "        \"Accept\": \"text/html,application/xhtml+xml,application/xml;q=0.9,*/*;q=0.8\",\n",
    "        \"Accept-Encoding\": \"gzip, deflate, br\",\n",
    "        \"Accept-Language\": \"en-US,en;q=0.9\",\n",
    "        \"Host\": \"httpbin.org\",\n",
    "        \"Sec-Fetch-Dest\": \"document\",\n",
    "        \"Sec-Fetch-Mode\": \"navigate\",\n",
    "        \"Sec-Fetch-Site\": \"none\",\n",
    "        \"Sec-Fetch-User\": \"?1\",\n",
    "        \"Upgrade-Insecure-Requests\": \"1\",\n",
    "        \"User-Agent\": \"Mozilla/5.0 (Macintosh; Intel Mac OS X 10_14_6) AppleWebKit/605.1.15 (KHTML, like Gecko) Version/12.1.2 Safari/605.1.15\"\n",
    "    }\n",
    "]\n",
    "\n",
    "headers = random.choice(headers_list) \n",
    "response = requests.get('https://httpbin.org/headers', headers=headers, proxies=proxies) \n",
    "print(response.json()['headers'])"
   ]
  },
  {
   "cell_type": "code",
   "execution_count": 11,
   "id": "094bd53a",
   "metadata": {},
   "outputs": [
    {
     "name": "stdout",
     "output_type": "stream",
     "text": [
      "{'Accept': 'text/html,application/xhtml+xml,application/xml;q=0.9,image/webp,*/*;q=0.8', 'Accept-Encoding': 'gzip, deflate, br', 'Accept-Language': 'en-US,en;q=0.5', 'Host': 'httpbin.org', 'Sec-Fetch-Dest': 'document', 'Sec-Fetch-Mode': 'navigate', 'Sec-Fetch-Site': 'none', 'Sec-Fetch-User': '?1', 'Upgrade-Insecure-Requests': '1', 'User-Agent': 'Mozilla/5.0 (X11; Ubuntu; Linux x86_64; rv:90.0) Gecko/20100101 Firefox/90.0', 'X-Amzn-Trace-Id': 'Root=1-66029cd9-34daf38d25e77cb935831f35'}\n"
     ]
    }
   ],
   "source": [
    "headers_list = [\n",
    "    {\n",
    "        \"Accept\": \"text/html,application/xhtml+xml,application/xml;q=0.9,image/avif,image/webp,image/apng,*/*;q=0.8,application/signed-exchange;v=b3;q=0.9\",\n",
    "        \"Accept-Encoding\": \"gzip, deflate, br\",\n",
    "        \"Accept-Language\": \"en-US,en;q=0.9\",\n",
    "        \"Host\": \"httpbin.org\",\n",
    "        \"Sec-Ch-Ua\": \"\\\"Chromium\\\";v=\\\"92\\\", \\\" Not A;Brand\\\";v=\\\"99\\\", \\\"Google Chrome\\\";v=\\\"92\\\"\",\n",
    "        \"Sec-Ch-Ua-Mobile\": \"?0\",\n",
    "        \"Sec-Fetch-Dest\": \"document\",\n",
    "        \"Sec-Fetch-Mode\": \"navigate\",\n",
    "        \"Sec-Fetch-Site\": \"none\",\n",
    "        \"Sec-Fetch-User\": \"?1\",\n",
    "        \"Upgrade-Insecure-Requests\": \"1\",\n",
    "        \"User-Agent\": \"Mozilla/5.0 (Windows NT 10.0; Win64; x64) AppleWebKit/537.36 (KHTML, like Gecko) Chrome/91.0.4472.124 Safari/537.36\"\n",
    "    },\n",
    "    {\n",
    "        \"Accept\": \"text/html,application/xhtml+xml,application/xml;q=0.9,image/webp,*/*;q=0.8\",\n",
    "        \"Accept-Encoding\": \"gzip, deflate, br\",\n",
    "        \"Accept-Language\": \"en-US,en;q=0.5\",\n",
    "        \"Host\": \"httpbin.org\",\n",
    "        \"Sec-Fetch-Dest\": \"document\",\n",
    "        \"Sec-Fetch-Mode\": \"navigate\",\n",
    "        \"Sec-Fetch-Site\": \"none\",\n",
    "        \"Sec-Fetch-User\": \"?1\",\n",
    "        \"Upgrade-Insecure-Requests\": \"1\",\n",
    "        \"User-Agent\": \"Mozilla/5.0 (X11; Ubuntu; Linux x86_64; rv:90.0) Gecko/20100101 Firefox/90.0\"\n",
    "    },\n",
    "    {\n",
    "        \"Accept\": \"text/html,application/xhtml+xml,application/xml;q=0.9,image/webp,*/*;q=0.8\",\n",
    "        \"Accept-Encoding\": \"gzip, deflate, br\",\n",
    "        \"Accept-Language\": \"en-US,en;q=0.5\",\n",
    "        \"Host\": \"httpbin.org\",\n",
    "        \"Sec-Fetch-Dest\": \"document\",\n",
    "        \"Sec-Fetch-Mode\": \"navigate\",\n",
    "        \"Sec-Fetch-Site\": \"none\",\n",
    "        \"Sec-Fetch-User\": \"?1\",\n",
    "        \"Upgrade-Insecure-Requests\": \"1\",\n",
    "        \"User-Agent\": \"Mozilla/5.0 (iPhone; CPU iPhone OS 14_6 like Mac OS X) AppleWebKit/605.1.15 (KHTML, like Gecko) Version/14.0 Mobile/15E148 Safari/604.1\"\n",
    "    },\n",
    "    {\n",
    "        \"Accept\": \"text/html,application/xhtml+xml,application/xml;q=0.9,*/*;q=0.8\",\n",
    "        \"Accept-Encoding\": \"gzip, deflate, br\",\n",
    "        \"Accept-Language\": \"en-GB,en;q=0.5\",\n",
    "        \"Host\": \"httpbin.org\",\n",
    "        \"Sec-Fetch-Dest\": \"document\",\n",
    "        \"Sec-Fetch-Mode\": \"navigate\",\n",
    "        \"Sec-Fetch-Site\": \"none\",\n",
    "        \"Sec-Fetch-User\": \"?1\",\n",
    "        \"Upgrade-Insecure-Requests\": \"1\",\n",
    "        \"User-Agent\": \"Mozilla/5.0 (Windows NT 6.1; WOW64; rv:54.0) Gecko/20100101 Firefox/54.0\"\n",
    "    },\n",
    "    {\n",
    "        \"Accept\": \"text/html,application/xhtml+xml,application/xml;q=0.9,*/*;q=0.8\",\n",
    "        \"Accept-Encoding\": \"gzip, deflate, br\",\n",
    "        \"Accept-Language\": \"en-US,en;q=0.9\",\n",
    "        \"Host\": \"httpbin.org\",\n",
    "        \"Sec-Fetch-Dest\": \"document\",\n",
    "        \"Sec-Fetch-Mode\": \"navigate\",\n",
    "        \"Sec-Fetch-Site\": \"none\",\n",
    "        \"Sec-Fetch-User\": \"?1\",\n",
    "        \"Upgrade-Insecure-Requests\": \"1\",\n",
    "        \"User-Agent\": \"Mozilla/5.0 (Macintosh; Intel Mac OS X 10_14_6) AppleWebKit/605.1.15 (KHTML, like Gecko) Version/12.1.2 Safari/605.1.15\"\n",
    "    }\n",
    "]\n",
    "\n",
    "headers = random.choice(headers_list) \n",
    "response = requests.get('https://httpbin.org/headers', headers=headers) \n",
    "print(response.json()['headers'])"
   ]
  },
  {
   "cell_type": "code",
   "execution_count": 49,
   "id": "53c083cf",
   "metadata": {},
   "outputs": [
    {
     "name": "stdout",
     "output_type": "stream",
     "text": [
      "Mozilla/5.0 (Windows NT 10.0; Win64; x64) AppleWebKit/604.1.34 (KHTML, like Gecko) Edge/90.0.818.56\n"
     ]
    }
   ],
   "source": [
    "#more user-agent, thanks chatgpt 🤓\n",
    "import random\n",
    "user_agents = [\n",
    "    'Mozilla/5.0 (Windows NT 10.0; Win64; x64) AppleWebKit/537.36 (KHTML, like Gecko) Chrome/91.0.4472.124 Safari/537.36',\n",
    "    'Mozilla/5.0 (X11; Linux x86_64) AppleWebKit/537.36 (KHTML, like Gecko) Chrome/92.0.4515.107 Safari/537.36',\n",
    "    'Mozilla/5.0 (Windows NT 10.0; Win64; x64) AppleWebKit/537.36 (KHTML, like Gecko) Chrome/90.0.4430.212 Safari/537.36',\n",
    "    'Mozilla/5.0 (iPhone; CPU iPhone OS 12_2 like Mac OS X) AppleWebKit/605.1.15 (KHTML, like Gecko) Mobile/15E148',\n",
    "    'Mozilla/5.0 (Linux; Android 11; SM-G960U) AppleWebKit/537.36 (KHTML, like Gecko) Chrome/89.0.4389.72 Mobile Safari/537.36',\n",
    "    'Mozilla/5.0 (Macintosh; Intel Mac OS X 10_15_7) AppleWebKit/537.36 (KHTML, like Gecko) Chrome/91.0.4472.114 Safari/537.36',\n",
    "    'Mozilla/5.0 (Windows NT 10.0; Win64; x64; rv:89.0) Gecko/20100101 Firefox/89.0',\n",
    "    'Mozilla/5.0 (iPad; CPU OS 13_5 like Mac OS X) AppleWebKit/605.1.15 (KHTML, like Gecko) Version/13.1.1 Mobile/15E148 Safari/604.1',\n",
    "    'Mozilla/5.0 (Windows NT 10.0; Win64; x64) AppleWebKit/604.1.34 (KHTML, like Gecko) Edge/90.0.818.56',\n",
    "    'Mozilla/5.0 (Linux; Android 10; SM-A505FN) AppleWebKit/537.36 (KHTML, like Gecko) Chrome/89.0.4389.82 Mobile Safari/537.36',\n",
    "    'Mozilla/5.0 (Macintosh; Intel Mac OS X 10_15_7) AppleWebKit/605.1.15 (KHTML, like Gecko) Version/14.0.3 Safari/605.1.15',\n",
    "    'Mozilla/5.0 (Linux; Android 11; Pixel 3) AppleWebKit/537.36 (KHTML, like Gecko) Chrome/91.0.4472.101 Mobile Safari/537.36',\n",
    "    'Mozilla/5.0 (Windows NT 6.1; WOW64; Trident/7.0; rv:11.0) like Gecko',\n",
    "    'Mozilla/5.0 (iPhone; CPU iPhone OS 14_6 like Mac OS X) AppleWebKit/605.1.15 (KHTML, like Gecko) Version/14.0 Mobile/15E148 Safari/604.1',\n",
    "    'Mozilla/5.0 (X11; Ubuntu; Linux x86_64; rv:88.0) Gecko/20100101 Firefox/88.0'\n",
    "]\n",
    "\n",
    "user_agent = random.choice(user_agents) \n",
    "headers = {'User-Agent': user_agent} \n",
    "response = requests.get('https://httpbin.org/headers', headers=headers) \n",
    "print(response.json()['headers']['User-Agent']) "
   ]
  },
  {
   "cell_type": "code",
   "execution_count": 50,
   "id": "c42696f9",
   "metadata": {},
   "outputs": [],
   "source": [
    "def initialize_driver(headers_list):\n",
    "    options = Options()\n",
    "    #select a random user-agent from the list\n",
    "    user_agent = random.choice(headers_list)[\"User-Agent\"]\n",
    "    options.add_argument(f\"user-agent={user_agent}\")\n",
    "\n",
    "    \n",
    "    #add some common options\n",
    "    options.add_argument(\"--headless\")\n",
    "    options.add_argument(\"--disable-extensions\")\n",
    "    options.add_argument(\"--ignore-certificate-errors\")\n",
    "\n",
    "    #initialize Chrome WebDriver with the specified options\n",
    "    service = Service(ChromeDriverManager().install())\n",
    "    driver = webdriver.Chrome(service=service, options=options)\n",
    "\n",
    "    #set implicit wait of 10sec\n",
    "    driver.implicitly_wait(10)\n",
    "\n",
    "    return driver\n",
    "\n",
    "# Example usage\n",
    "custom_driver = initialize_driver(headers_list)"
   ]
  },
  {
   "cell_type": "code",
   "execution_count": 51,
   "id": "cc95803b",
   "metadata": {},
   "outputs": [
    {
     "data": {
      "text/plain": [
       "<selenium.webdriver.chrome.webdriver.WebDriver (session=\"6b7a3343daccdf9ba13c4e8cf373b89a\")>"
      ]
     },
     "execution_count": 51,
     "metadata": {},
     "output_type": "execute_result"
    }
   ],
   "source": [
    "custom_driver"
   ]
  },
  {
   "cell_type": "code",
   "execution_count": 52,
   "id": "436e1af1",
   "metadata": {},
   "outputs": [],
   "source": [
    "def MainPage(driver, url):\n",
    "    '''Go the the first page'''\n",
    "    driver.get(url)\n",
    "    time.sleep(3)"
   ]
  },
  {
   "cell_type": "code",
   "execution_count": 53,
   "id": "916e698a",
   "metadata": {},
   "outputs": [
    {
     "ename": "IndentationError",
     "evalue": "expected an indented block after 'try' statement on line 2 (1855156722.py, line 5)",
     "output_type": "error",
     "traceback": [
      "\u001b[1;36m  Cell \u001b[1;32mIn[53], line 5\u001b[1;36m\u001b[0m\n\u001b[1;33m    except Exception as e:\u001b[0m\n\u001b[1;37m    ^\u001b[0m\n\u001b[1;31mIndentationError\u001b[0m\u001b[1;31m:\u001b[0m expected an indented block after 'try' statement on line 2\n"
     ]
    }
   ],
   "source": [
    "def nbOffers(driver):\n",
    "    try:\n",
    "        #code here \n",
    "\n",
    "    except Exception as e:\n",
    "        print(\"An error occurred in NB_OFFER:\", str(e))\n",
    "        return 0  # Or handle the exception as needed"
   ]
  },
  {
   "cell_type": "code",
   "execution_count": 54,
   "id": "c7932550",
   "metadata": {},
   "outputs": [],
   "source": [
    "def nbOffers(driver):\n",
    "    try:\n",
    "        search_results = driver.find_elements(By.CSS_SELECTOR, 'li[data-testid=\"search-results-list-item-wrapper\"]')\n",
    "        search_results_count = len(search_results)\n",
    "        return search_results\n",
    "\n",
    "    except Exception as e:\n",
    "        print(\"An error occurred in NB_OFFER:\", str(e))\n",
    "        return 0  # Or handle the exception as needed"
   ]
  },
  {
   "cell_type": "code",
   "execution_count": 75,
   "id": "4e2832e4",
   "metadata": {},
   "outputs": [],
   "source": [
    "def nbOffers_tot(driver):\n",
    "    try:\n",
    "        search_results = int(driver.find_element(By.CSS_SELECTOR, 'div[data-testid=\"jobs-search-results-count\"]').text)\n",
    "        search_results_count = len(search_results)\n",
    "        return search_results_count\n",
    "        \n",
    "    except Exception as e:\n",
    "        print(\"An error occurred in NB_OFFER TOTAL:\", str(e))\n",
    "        return 0  # Or handle the exception as needed"
   ]
  },
  {
   "cell_type": "code",
   "execution_count": 56,
   "id": "811a93ca",
   "metadata": {},
   "outputs": [],
   "source": [
    "def Click(driver, pos):\n",
    "    '''Click on the link'''\n",
    "    try:\n",
    "        element = driver.find_elements(By.CSS_SELECTOR, 'li[data-testid=\"search-results-list-item-wrapper\"]')[pos]\n",
    "        element.click()\n",
    "        return 1\n",
    "    \n",
    "    except Exception as e:\n",
    "        print(\"An error occurred in CLICK:\", str(e))\n",
    "        return 0  # Or handle the exception as needed"
   ]
  },
  {
   "cell_type": "code",
   "execution_count": 34,
   "id": "6e6743a3",
   "metadata": {},
   "outputs": [
    {
     "name": "stdout",
     "output_type": "stream",
     "text": [
      "An error occurred in CLICK: Message: element click intercepted: Element <li data-testid=\"search-results-list-item-wrapper\">...</li> is not clickable at point (195, 562). Other element would receive the click: <div class=\"sc-bXCLTC sc-1tg9ojw-0 Ckkjz\">...</div>\n",
      "  (Session info: chrome-headless-shell=123.0.6312.59)\n",
      "Stacktrace:\n",
      "\tGetHandleVerifier [0x00E84CE3+225091]\n",
      "\t(No symbol) [0x00DB4E31]\n",
      "\t(No symbol) [0x00C59A7A]\n",
      "\t(No symbol) [0x00C96D42]\n",
      "\t(No symbol) [0x00C95574]\n",
      "\t(No symbol) [0x00C935DB]\n",
      "\t(No symbol) [0x00C927BA]\n",
      "\t(No symbol) [0x00C898DE]\n",
      "\t(No symbol) [0x00CAF55C]\n",
      "\t(No symbol) [0x00C8930E]\n",
      "\t(No symbol) [0x00CAF7F4]\n",
      "\t(No symbol) [0x00CC5CB0]\n",
      "\t(No symbol) [0x00CAF2F6]\n",
      "\t(No symbol) [0x00C879B9]\n",
      "\t(No symbol) [0x00C8879D]\n",
      "\tsqlite3_dbdata_init [0x012F9A83+4064547]\n",
      "\tsqlite3_dbdata_init [0x0130108A+4094762]\n",
      "\tsqlite3_dbdata_init [0x012FB988+4072488]\n",
      "\tsqlite3_dbdata_init [0x00FFC9E9+930953]\n",
      "\t(No symbol) [0x00DC0804]\n",
      "\t(No symbol) [0x00DBAD28]\n",
      "\t(No symbol) [0x00DBAE51]\n",
      "\t(No symbol) [0x00DACAC0]\n",
      "\tBaseThreadInitThunk [0x76697BA9+25]\n",
      "\tRtlInitializeExceptionChain [0x7708BDAB+107]\n",
      "\tRtlClearBits [0x7708BD2F+191]\n",
      "\n"
     ]
    },
    {
     "data": {
      "text/plain": [
       "0"
      ]
     },
     "execution_count": 34,
     "metadata": {},
     "output_type": "execute_result"
    }
   ],
   "source": [
    "Click(driver, 0)"
   ]
  },
  {
   "cell_type": "code",
   "execution_count": 66,
   "id": "7d4f32b6",
   "metadata": {},
   "outputs": [],
   "source": [
    "driver = initialize_driver(headers_list)"
   ]
  },
  {
   "cell_type": "code",
   "execution_count": 67,
   "id": "877fe864",
   "metadata": {},
   "outputs": [],
   "source": [
    "MainPage(driver,\"https://www.welcometothejungle.com/fr/jobs?page=1&refinementList%5Bprofession_name.fr.Tech%5D%5B%5D=Data%20Analysis&refinementList%5Bcontract_type_names.fr%5D%5B%5D=CDI\")"
   ]
  },
  {
   "cell_type": "code",
   "execution_count": 42,
   "id": "74269dfe",
   "metadata": {},
   "outputs": [
    {
     "data": {
      "text/plain": [
       "1"
      ]
     },
     "execution_count": 42,
     "metadata": {},
     "output_type": "execute_result"
    }
   ],
   "source": [
    "Click(driver, 1)"
   ]
  },
  {
   "cell_type": "code",
   "execution_count": 68,
   "id": "46404a0c",
   "metadata": {},
   "outputs": [
    {
     "data": {
      "text/plain": [
       "[<selenium.webdriver.remote.webelement.WebElement (session=\"94d5ed077039274e8d9f3e749def6569\", element=\"f.7D1C8B2E3FE77C4F3069043387F3FDB1.d.3E169743B19CAC2A556A2C0B26D494DD.e.43\")>,\n",
       " <selenium.webdriver.remote.webelement.WebElement (session=\"94d5ed077039274e8d9f3e749def6569\", element=\"f.7D1C8B2E3FE77C4F3069043387F3FDB1.d.3E169743B19CAC2A556A2C0B26D494DD.e.44\")>,\n",
       " <selenium.webdriver.remote.webelement.WebElement (session=\"94d5ed077039274e8d9f3e749def6569\", element=\"f.7D1C8B2E3FE77C4F3069043387F3FDB1.d.3E169743B19CAC2A556A2C0B26D494DD.e.45\")>,\n",
       " <selenium.webdriver.remote.webelement.WebElement (session=\"94d5ed077039274e8d9f3e749def6569\", element=\"f.7D1C8B2E3FE77C4F3069043387F3FDB1.d.3E169743B19CAC2A556A2C0B26D494DD.e.46\")>,\n",
       " <selenium.webdriver.remote.webelement.WebElement (session=\"94d5ed077039274e8d9f3e749def6569\", element=\"f.7D1C8B2E3FE77C4F3069043387F3FDB1.d.3E169743B19CAC2A556A2C0B26D494DD.e.47\")>,\n",
       " <selenium.webdriver.remote.webelement.WebElement (session=\"94d5ed077039274e8d9f3e749def6569\", element=\"f.7D1C8B2E3FE77C4F3069043387F3FDB1.d.3E169743B19CAC2A556A2C0B26D494DD.e.48\")>,\n",
       " <selenium.webdriver.remote.webelement.WebElement (session=\"94d5ed077039274e8d9f3e749def6569\", element=\"f.7D1C8B2E3FE77C4F3069043387F3FDB1.d.3E169743B19CAC2A556A2C0B26D494DD.e.49\")>,\n",
       " <selenium.webdriver.remote.webelement.WebElement (session=\"94d5ed077039274e8d9f3e749def6569\", element=\"f.7D1C8B2E3FE77C4F3069043387F3FDB1.d.3E169743B19CAC2A556A2C0B26D494DD.e.50\")>,\n",
       " <selenium.webdriver.remote.webelement.WebElement (session=\"94d5ed077039274e8d9f3e749def6569\", element=\"f.7D1C8B2E3FE77C4F3069043387F3FDB1.d.3E169743B19CAC2A556A2C0B26D494DD.e.51\")>,\n",
       " <selenium.webdriver.remote.webelement.WebElement (session=\"94d5ed077039274e8d9f3e749def6569\", element=\"f.7D1C8B2E3FE77C4F3069043387F3FDB1.d.3E169743B19CAC2A556A2C0B26D494DD.e.52\")>,\n",
       " <selenium.webdriver.remote.webelement.WebElement (session=\"94d5ed077039274e8d9f3e749def6569\", element=\"f.7D1C8B2E3FE77C4F3069043387F3FDB1.d.3E169743B19CAC2A556A2C0B26D494DD.e.53\")>,\n",
       " <selenium.webdriver.remote.webelement.WebElement (session=\"94d5ed077039274e8d9f3e749def6569\", element=\"f.7D1C8B2E3FE77C4F3069043387F3FDB1.d.3E169743B19CAC2A556A2C0B26D494DD.e.54\")>,\n",
       " <selenium.webdriver.remote.webelement.WebElement (session=\"94d5ed077039274e8d9f3e749def6569\", element=\"f.7D1C8B2E3FE77C4F3069043387F3FDB1.d.3E169743B19CAC2A556A2C0B26D494DD.e.55\")>,\n",
       " <selenium.webdriver.remote.webelement.WebElement (session=\"94d5ed077039274e8d9f3e749def6569\", element=\"f.7D1C8B2E3FE77C4F3069043387F3FDB1.d.3E169743B19CAC2A556A2C0B26D494DD.e.56\")>,\n",
       " <selenium.webdriver.remote.webelement.WebElement (session=\"94d5ed077039274e8d9f3e749def6569\", element=\"f.7D1C8B2E3FE77C4F3069043387F3FDB1.d.3E169743B19CAC2A556A2C0B26D494DD.e.57\")>,\n",
       " <selenium.webdriver.remote.webelement.WebElement (session=\"94d5ed077039274e8d9f3e749def6569\", element=\"f.7D1C8B2E3FE77C4F3069043387F3FDB1.d.3E169743B19CAC2A556A2C0B26D494DD.e.58\")>,\n",
       " <selenium.webdriver.remote.webelement.WebElement (session=\"94d5ed077039274e8d9f3e749def6569\", element=\"f.7D1C8B2E3FE77C4F3069043387F3FDB1.d.3E169743B19CAC2A556A2C0B26D494DD.e.59\")>,\n",
       " <selenium.webdriver.remote.webelement.WebElement (session=\"94d5ed077039274e8d9f3e749def6569\", element=\"f.7D1C8B2E3FE77C4F3069043387F3FDB1.d.3E169743B19CAC2A556A2C0B26D494DD.e.60\")>,\n",
       " <selenium.webdriver.remote.webelement.WebElement (session=\"94d5ed077039274e8d9f3e749def6569\", element=\"f.7D1C8B2E3FE77C4F3069043387F3FDB1.d.3E169743B19CAC2A556A2C0B26D494DD.e.61\")>,\n",
       " <selenium.webdriver.remote.webelement.WebElement (session=\"94d5ed077039274e8d9f3e749def6569\", element=\"f.7D1C8B2E3FE77C4F3069043387F3FDB1.d.3E169743B19CAC2A556A2C0B26D494DD.e.62\")>,\n",
       " <selenium.webdriver.remote.webelement.WebElement (session=\"94d5ed077039274e8d9f3e749def6569\", element=\"f.7D1C8B2E3FE77C4F3069043387F3FDB1.d.3E169743B19CAC2A556A2C0B26D494DD.e.63\")>,\n",
       " <selenium.webdriver.remote.webelement.WebElement (session=\"94d5ed077039274e8d9f3e749def6569\", element=\"f.7D1C8B2E3FE77C4F3069043387F3FDB1.d.3E169743B19CAC2A556A2C0B26D494DD.e.64\")>,\n",
       " <selenium.webdriver.remote.webelement.WebElement (session=\"94d5ed077039274e8d9f3e749def6569\", element=\"f.7D1C8B2E3FE77C4F3069043387F3FDB1.d.3E169743B19CAC2A556A2C0B26D494DD.e.65\")>,\n",
       " <selenium.webdriver.remote.webelement.WebElement (session=\"94d5ed077039274e8d9f3e749def6569\", element=\"f.7D1C8B2E3FE77C4F3069043387F3FDB1.d.3E169743B19CAC2A556A2C0B26D494DD.e.66\")>,\n",
       " <selenium.webdriver.remote.webelement.WebElement (session=\"94d5ed077039274e8d9f3e749def6569\", element=\"f.7D1C8B2E3FE77C4F3069043387F3FDB1.d.3E169743B19CAC2A556A2C0B26D494DD.e.67\")>,\n",
       " <selenium.webdriver.remote.webelement.WebElement (session=\"94d5ed077039274e8d9f3e749def6569\", element=\"f.7D1C8B2E3FE77C4F3069043387F3FDB1.d.3E169743B19CAC2A556A2C0B26D494DD.e.68\")>,\n",
       " <selenium.webdriver.remote.webelement.WebElement (session=\"94d5ed077039274e8d9f3e749def6569\", element=\"f.7D1C8B2E3FE77C4F3069043387F3FDB1.d.3E169743B19CAC2A556A2C0B26D494DD.e.69\")>,\n",
       " <selenium.webdriver.remote.webelement.WebElement (session=\"94d5ed077039274e8d9f3e749def6569\", element=\"f.7D1C8B2E3FE77C4F3069043387F3FDB1.d.3E169743B19CAC2A556A2C0B26D494DD.e.70\")>,\n",
       " <selenium.webdriver.remote.webelement.WebElement (session=\"94d5ed077039274e8d9f3e749def6569\", element=\"f.7D1C8B2E3FE77C4F3069043387F3FDB1.d.3E169743B19CAC2A556A2C0B26D494DD.e.71\")>,\n",
       " <selenium.webdriver.remote.webelement.WebElement (session=\"94d5ed077039274e8d9f3e749def6569\", element=\"f.7D1C8B2E3FE77C4F3069043387F3FDB1.d.3E169743B19CAC2A556A2C0B26D494DD.e.72\")>,\n",
       " <selenium.webdriver.remote.webelement.WebElement (session=\"94d5ed077039274e8d9f3e749def6569\", element=\"f.7D1C8B2E3FE77C4F3069043387F3FDB1.d.3E169743B19CAC2A556A2C0B26D494DD.e.73\")>,\n",
       " <selenium.webdriver.remote.webelement.WebElement (session=\"94d5ed077039274e8d9f3e749def6569\", element=\"f.7D1C8B2E3FE77C4F3069043387F3FDB1.d.3E169743B19CAC2A556A2C0B26D494DD.e.74\")>,\n",
       " <selenium.webdriver.remote.webelement.WebElement (session=\"94d5ed077039274e8d9f3e749def6569\", element=\"f.7D1C8B2E3FE77C4F3069043387F3FDB1.d.3E169743B19CAC2A556A2C0B26D494DD.e.75\")>,\n",
       " <selenium.webdriver.remote.webelement.WebElement (session=\"94d5ed077039274e8d9f3e749def6569\", element=\"f.7D1C8B2E3FE77C4F3069043387F3FDB1.d.3E169743B19CAC2A556A2C0B26D494DD.e.76\")>]"
      ]
     },
     "execution_count": 68,
     "metadata": {},
     "output_type": "execute_result"
    }
   ],
   "source": [
    "nbOffers(driver)"
   ]
  },
  {
   "cell_type": "code",
   "execution_count": 76,
   "id": "9d4e9d04",
   "metadata": {},
   "outputs": [
    {
     "name": "stdout",
     "output_type": "stream",
     "text": [
      "An error occurred in NB_OFFER TOTAL: object of type 'int' has no len()\n"
     ]
    },
    {
     "data": {
      "text/plain": [
       "0"
      ]
     },
     "execution_count": 76,
     "metadata": {},
     "output_type": "execute_result"
    }
   ],
   "source": [
    "nbOffers_tot(driver)"
   ]
  },
  {
   "cell_type": "code",
   "execution_count": 77,
   "id": "116f9715",
   "metadata": {},
   "outputs": [
    {
     "name": "stdout",
     "output_type": "stream",
     "text": [
      "An error occurred in CLICK: Message: element click intercepted: Element <li data-testid=\"search-results-list-item-wrapper\">...</li> is not clickable at point (195, 356). Other element would receive the click: <p>...</p>\n",
      "  (Session info: chrome-headless-shell=123.0.6312.59)\n",
      "Stacktrace:\n",
      "\tGetHandleVerifier [0x00E84CE3+225091]\n",
      "\t(No symbol) [0x00DB4E31]\n",
      "\t(No symbol) [0x00C59A7A]\n",
      "\t(No symbol) [0x00C96D42]\n",
      "\t(No symbol) [0x00C95574]\n",
      "\t(No symbol) [0x00C935DB]\n",
      "\t(No symbol) [0x00C927BA]\n",
      "\t(No symbol) [0x00C898DE]\n",
      "\t(No symbol) [0x00CAF55C]\n",
      "\t(No symbol) [0x00C8930E]\n",
      "\t(No symbol) [0x00CAF7F4]\n",
      "\t(No symbol) [0x00CC5CB0]\n",
      "\t(No symbol) [0x00CAF2F6]\n",
      "\t(No symbol) [0x00C879B9]\n",
      "\t(No symbol) [0x00C8879D]\n",
      "\tsqlite3_dbdata_init [0x012F9A83+4064547]\n",
      "\tsqlite3_dbdata_init [0x0130108A+4094762]\n",
      "\tsqlite3_dbdata_init [0x012FB988+4072488]\n",
      "\tsqlite3_dbdata_init [0x00FFC9E9+930953]\n",
      "\t(No symbol) [0x00DC0804]\n",
      "\t(No symbol) [0x00DBAD28]\n",
      "\t(No symbol) [0x00DBAE51]\n",
      "\t(No symbol) [0x00DACAC0]\n",
      "\tBaseThreadInitThunk [0x76697BA9+25]\n",
      "\tRtlInitializeExceptionChain [0x7708BDAB+107]\n",
      "\tRtlClearBits [0x7708BD2F+191]\n",
      "\n"
     ]
    },
    {
     "data": {
      "text/plain": [
       "0"
      ]
     },
     "execution_count": 77,
     "metadata": {},
     "output_type": "execute_result"
    }
   ],
   "source": [
    "Click(driver,8)"
   ]
  },
  {
   "cell_type": "code",
   "execution_count": 64,
   "id": "490d09c2",
   "metadata": {},
   "outputs": [
    {
     "data": {
      "text/plain": [
       "<selenium.webdriver.chrome.webdriver.WebDriver (session=\"76d2b84abc0ad139ed7e4a17be4c5ff6\")>"
      ]
     },
     "execution_count": 64,
     "metadata": {},
     "output_type": "execute_result"
    }
   ],
   "source": [
    "initialize_driver(headers_list)"
   ]
  },
  {
   "cell_type": "code",
   "execution_count": null,
   "id": "77b83153",
   "metadata": {},
   "outputs": [],
   "source": []
  }
 ],
 "metadata": {
  "kernelspec": {
   "display_name": "Python 3 (ipykernel)",
   "language": "python",
   "name": "python3"
  },
  "language_info": {
   "codemirror_mode": {
    "name": "ipython",
    "version": 3
   },
   "file_extension": ".py",
   "mimetype": "text/x-python",
   "name": "python",
   "nbconvert_exporter": "python",
   "pygments_lexer": "ipython3",
   "version": "3.11.5"
  }
 },
 "nbformat": 4,
 "nbformat_minor": 5
}
